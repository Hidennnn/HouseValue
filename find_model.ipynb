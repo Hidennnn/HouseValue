{
 "cells": [
  {
   "cell_type": "code",
   "execution_count": 36,
   "metadata": {
    "collapsed": true,
    "ExecuteTime": {
     "end_time": "2023-08-15T18:59:53.511696Z",
     "start_time": "2023-08-15T18:59:53.507078Z"
    },
    "pycharm": {
     "name": "#%%\n"
    }
   },
   "outputs": [],
   "source": [
    "from statistics import mean\n",
    "\n",
    "import matplotlib.pyplot as plt\n",
    "import numpy as np\n",
    "import pandas as pd\n",
    "from scipy.stats import zscore\n",
    "from sklearn.ensemble import RandomForestRegressor\n",
    "from sklearn.gaussian_process import GaussianProcessRegressor\n",
    "from sklearn.kernel_ridge import KernelRidge\n",
    "from sklearn.linear_model import Lasso, LinearRegression, Ridge, SGDRegressor\n",
    "from sklearn.metrics import mean_squared_error\n",
    "from sklearn.model_selection import GridSearchCV, cross_val_score,  train_test_split\n",
    "from sklearn.preprocessing import LabelEncoder, MinMaxScaler\n",
    "from sklearn.svm import LinearSVR"
   ]
  },
  {
   "cell_type": "code",
   "execution_count": 37,
   "outputs": [],
   "source": [
    "df = pd.read_csv('housing.csv')"
   ],
   "metadata": {
    "collapsed": false,
    "ExecuteTime": {
     "end_time": "2023-08-15T18:59:53.922635Z",
     "start_time": "2023-08-15T18:59:53.907837Z"
    },
    "pycharm": {
     "name": "#%%\n"
    }
   }
  },
  {
   "cell_type": "markdown",
   "source": [
    "Drop columns with multicollinearity."
   ],
   "metadata": {
    "collapsed": false,
    "pycharm": {
     "name": "#%% md\n"
    }
   }
  },
  {
   "cell_type": "code",
   "execution_count": 38,
   "outputs": [],
   "source": [
    "df['ocean_proximity'] = LabelEncoder().fit_transform(df['ocean_proximity'])\n",
    "df = df.drop(columns=['latitude', 'total_rooms', 'total_bedrooms', 'households', 'housing_median_age'])\n",
    "df = df[(np.abs(zscore(df)) <= 3).all(axis=1)]"
   ],
   "metadata": {
    "collapsed": false,
    "ExecuteTime": {
     "end_time": "2023-08-15T18:59:54.792014Z",
     "start_time": "2023-08-15T18:59:54.785254Z"
    },
    "pycharm": {
     "name": "#%%\n"
    }
   }
  },
  {
   "cell_type": "code",
   "execution_count": 39,
   "outputs": [],
   "source": [
    "target = np.reshape(df.pop('median_house_value').to_numpy(), (-1, 1))\n",
    "features = df"
   ],
   "metadata": {
    "collapsed": false,
    "ExecuteTime": {
     "end_time": "2023-08-15T18:59:55.481992Z",
     "start_time": "2023-08-15T18:59:55.476152Z"
    },
    "pycharm": {
     "name": "#%%\n"
    }
   }
  },
  {
   "cell_type": "code",
   "execution_count": 40,
   "outputs": [],
   "source": [
    "scaler_feature = MinMaxScaler().fit(features)\n",
    "features = scaler_feature.transform(features)"
   ],
   "metadata": {
    "collapsed": false,
    "ExecuteTime": {
     "end_time": "2023-08-15T18:59:56.603016Z",
     "start_time": "2023-08-15T18:59:56.589463Z"
    },
    "pycharm": {
     "name": "#%%\n"
    }
   }
  },
  {
   "cell_type": "code",
   "execution_count": 41,
   "outputs": [],
   "source": [
    "scaler_target = MinMaxScaler().fit(target)\n",
    "target = scaler_target.transform(target)"
   ],
   "metadata": {
    "collapsed": false,
    "ExecuteTime": {
     "end_time": "2023-08-15T18:59:56.946302Z",
     "start_time": "2023-08-15T18:59:56.943477Z"
    },
    "pycharm": {
     "name": "#%%\n"
    }
   }
  },
  {
   "cell_type": "code",
   "execution_count": 42,
   "outputs": [],
   "source": [
    "x_train, x_test, y_train, y_test = train_test_split(features, target, test_size=0.2, random_state=1234)"
   ],
   "metadata": {
    "collapsed": false,
    "ExecuteTime": {
     "end_time": "2023-08-15T18:59:57.228730Z",
     "start_time": "2023-08-15T18:59:57.223762Z"
    },
    "pycharm": {
     "name": "#%%\n"
    }
   }
  },
  {
   "cell_type": "code",
   "execution_count": null,
   "outputs": [],
   "source": [
    "print(mean(cross_val_score(LinearRegression(), x_train, y_train, cv=5, verbose=1, scoring='neg_mean_squared_error')))"
   ],
   "metadata": {
    "collapsed": false,
    "pycharm": {
     "name": "#%%\n"
    }
   }
  },
  {
   "cell_type": "code",
   "execution_count": null,
   "outputs": [],
   "source": [
    "print(mean(cross_val_score(Ridge(), x_train, y_train, cv=5, verbose=1, scoring='neg_mean_squared_error')))"
   ],
   "metadata": {
    "collapsed": false,
    "pycharm": {
     "name": "#%%\n"
    }
   }
  },
  {
   "cell_type": "code",
   "execution_count": null,
   "outputs": [],
   "source": [
    "print(mean(cross_val_score(SGDRegressor(), x_train, np.reshape(y_train, (y_train.shape[0],)), cv=5, verbose=1, scoring='neg_mean_squared_error')))"
   ],
   "metadata": {
    "collapsed": false,
    "pycharm": {
     "name": "#%%\n"
    }
   }
  },
  {
   "cell_type": "code",
   "execution_count": null,
   "outputs": [],
   "source": [
    "print(mean(cross_val_score(Lasso(random_state=1234, tol=0.001, selection='cyclic', alpha=0.3), x_train, y_train, cv=5, verbose=1, scoring='neg_mean_squared_error')))"
   ],
   "metadata": {
    "collapsed": false,
    "pycharm": {
     "name": "#%%\n"
    }
   }
  },
  {
   "cell_type": "code",
   "execution_count": null,
   "outputs": [],
   "source": [
    "print(mean(cross_val_score(GaussianProcessRegressor(), x_train, y_train, cv=5, verbose=1, scoring='neg_mean_squared_error')))"
   ],
   "metadata": {
    "collapsed": false,
    "pycharm": {
     "name": "#%%\n"
    }
   }
  },
  {
   "cell_type": "code",
   "execution_count": null,
   "outputs": [],
   "source": [
    "print(mean(cross_val_score(KernelRidge(), x_train, y_train, cv=5, verbose=1, scoring='neg_mean_squared_error')))"
   ],
   "metadata": {
    "collapsed": false,
    "pycharm": {
     "name": "#%%\n"
    }
   }
  },
  {
   "cell_type": "code",
   "execution_count": null,
   "outputs": [],
   "source": [
    "print(mean(cross_val_score(LinearSVR(max_iter=100000), x_train, np.reshape(y_train, (y_train.shape[0],)), cv=5, verbose=1, scoring='neg_mean_squared_error')))"
   ],
   "metadata": {
    "collapsed": false,
    "pycharm": {
     "name": "#%%\n"
    }
   }
  },
  {
   "cell_type": "code",
   "execution_count": null,
   "outputs": [],
   "source": [
    "print(mean(cross_val_score(RandomForestRegressor(), x_train, np.reshape(y_train, (y_train.shape[0],)), cv=5, verbose=1, scoring='neg_mean_squared_error')))"
   ],
   "metadata": {
    "collapsed": false,
    "pycharm": {
     "name": "#%%\n"
    }
   }
  },
  {
   "cell_type": "markdown",
   "source": [
    "The best is RandomForestRegressor. I will find hyperparameters for it."
   ],
   "metadata": {
    "collapsed": false,
    "pycharm": {
     "name": "#%% md\n"
    }
   }
  },
  {
   "cell_type": "code",
   "execution_count": null,
   "outputs": [],
   "source": [
    "params = {\n",
    "    'n_estimators': [2, 100, 200, 300],\n",
    "    'criterion': ['squared_error'],\n",
    "    'max_depth': [None, 5, 100, 200],\n",
    "    'min_samples_split': [2, 20, 40],\n",
    "    'min_samples_leaf': [2, 20, 40],\n",
    "    'max_leaf_nodes': [None, 5, 250, 500],\n",
    "}"
   ],
   "metadata": {
    "collapsed": false,
    "pycharm": {
     "name": "#%%\n"
    }
   }
  },
  {
   "cell_type": "code",
   "execution_count": null,
   "outputs": [],
   "source": [
    "gsc = GridSearchCV(RandomForestRegressor(), param_grid=params, verbose=10, cv=5, scoring='neg_mean_squared_error')\n",
    "gsc.fit(x_train, np.reshape(y_train, (y_train.shape[0],)))"
   ],
   "metadata": {
    "collapsed": false,
    "pycharm": {
     "name": "#%%\n"
    }
   }
  },
  {
   "cell_type": "code",
   "execution_count": null,
   "outputs": [],
   "source": [
    "gsc.best_params_"
   ],
   "metadata": {
    "collapsed": false,
    "pycharm": {
     "name": "#%%\n"
    }
   }
  },
  {
   "cell_type": "code",
   "execution_count": null,
   "outputs": [],
   "source": [
    "params = {\n",
    "    'n_estimators': [200],\n",
    "    'criterion': ['squared_error', 'absolute_error', 'friedman_mse', 'poisson'],\n",
    "    'max_depth': [300, 600, 900],\n",
    "    'min_samples_split': [20],\n",
    "    'min_samples_leaf': [2, 10],\n",
    "    'max_leaf_nodes': [600],\n",
    "}"
   ],
   "metadata": {
    "collapsed": false,
    "pycharm": {
     "name": "#%%\n"
    }
   }
  },
  {
   "cell_type": "code",
   "execution_count": null,
   "outputs": [],
   "source": [
    "gsc = GridSearchCV(RandomForestRegressor(), param_grid=params, verbose=10, cv=5, scoring='neg_mean_squared_error')\n",
    "gsc.fit(x_train, np.reshape(y_train, (y_train.shape[0],)))"
   ],
   "metadata": {
    "collapsed": false,
    "pycharm": {
     "name": "#%%\n"
    }
   }
  },
  {
   "cell_type": "code",
   "execution_count": null,
   "outputs": [],
   "source": [
    "gsc.best_params_"
   ],
   "metadata": {
    "collapsed": false,
    "pycharm": {
     "name": "#%%\n"
    }
   }
  },
  {
   "cell_type": "code",
   "execution_count": null,
   "outputs": [],
   "source": [
    "params = {\n",
    "    'n_estimators': [150, 200, 250],\n",
    "    'criterion': ['poisson'],\n",
    "    'max_depth': [200, 300, 400],\n",
    "    'min_samples_split': [20, 30],\n",
    "    'min_samples_leaf': [2, 3, 4, 5],\n",
    "    'max_leaf_nodes': [500, 600, 700],\n",
    "}"
   ],
   "metadata": {
    "collapsed": false,
    "pycharm": {
     "name": "#%%\n"
    }
   }
  },
  {
   "cell_type": "code",
   "execution_count": null,
   "outputs": [],
   "source": [
    "gsc = GridSearchCV(RandomForestRegressor(), param_grid=params, verbose=10, cv=5, scoring='neg_mean_squared_error')\n",
    "gsc.fit(x_train, np.reshape(y_train, (y_train.shape[0],)))"
   ],
   "metadata": {
    "collapsed": false,
    "pycharm": {
     "name": "#%%\n"
    }
   }
  },
  {
   "cell_type": "code",
   "execution_count": null,
   "outputs": [],
   "source": [
    "gsc.best_params_"
   ],
   "metadata": {
    "collapsed": false,
    "pycharm": {
     "name": "#%%\n"
    }
   }
  },
  {
   "cell_type": "code",
   "execution_count": null,
   "outputs": [],
   "source": [
    "params = {\n",
    "    'n_estimators': [250, 300],\n",
    "    'criterion': ['poisson'],\n",
    "    'max_depth': [400, 500, 600],\n",
    "    'min_samples_split': [10, 20],\n",
    "    'min_samples_leaf': [2],\n",
    "    'max_leaf_nodes': [650, 700, 750],\n",
    "}"
   ],
   "metadata": {
    "collapsed": false,
    "pycharm": {
     "name": "#%%\n"
    }
   }
  },
  {
   "cell_type": "code",
   "execution_count": null,
   "outputs": [],
   "source": [
    "gsc = GridSearchCV(RandomForestRegressor(), param_grid=params, verbose=10, cv=5, scoring='neg_mean_squared_error')\n",
    "gsc.fit(x_train, np.reshape(y_train, (y_train.shape[0],)))"
   ],
   "metadata": {
    "collapsed": false,
    "pycharm": {
     "name": "#%%\n"
    }
   }
  },
  {
   "cell_type": "code",
   "execution_count": null,
   "outputs": [],
   "source": [
    "gsc.best_params_"
   ],
   "metadata": {
    "collapsed": false,
    "pycharm": {
     "name": "#%%\n"
    }
   }
  },
  {
   "cell_type": "code",
   "execution_count": null,
   "outputs": [],
   "source": [
    "params = {\n",
    "    'n_estimators': [225, 250, 275],\n",
    "    'criterion': ['poisson'],\n",
    "    'max_depth': [600, 700],\n",
    "    'min_samples_split': [15, 20, 25],\n",
    "    'min_samples_leaf': [2],\n",
    "    'max_leaf_nodes': [600, 650],\n",
    "}"
   ],
   "metadata": {
    "collapsed": false,
    "pycharm": {
     "name": "#%%\n"
    }
   }
  },
  {
   "cell_type": "code",
   "execution_count": null,
   "outputs": [],
   "source": [
    "gsc = GridSearchCV(RandomForestRegressor(), param_grid=params, verbose=10, cv=5, scoring='neg_mean_squared_error')\n",
    "gsc.fit(x_train, np.reshape(y_train, (y_train.shape[0],)))"
   ],
   "metadata": {
    "collapsed": false,
    "pycharm": {
     "name": "#%%\n"
    }
   }
  },
  {
   "cell_type": "code",
   "execution_count": null,
   "outputs": [],
   "source": [
    "gsc.best_params_"
   ],
   "metadata": {
    "collapsed": false,
    "pycharm": {
     "name": "#%%\n"
    }
   }
  },
  {
   "cell_type": "code",
   "execution_count": null,
   "outputs": [],
   "source": [
    "params = {\n",
    "    'n_estimators': [250],\n",
    "    'criterion': ['poisson'],\n",
    "    'max_depth': [600],\n",
    "    'min_samples_split': [10, 15],\n",
    "    'min_samples_leaf': [2],\n",
    "    'max_leaf_nodes': [500, 550, 600],\n",
    "}"
   ],
   "metadata": {
    "collapsed": false,
    "pycharm": {
     "name": "#%%\n"
    }
   }
  },
  {
   "cell_type": "code",
   "execution_count": null,
   "outputs": [],
   "source": [
    "gsc = GridSearchCV(RandomForestRegressor(), param_grid=params, verbose=10, cv=5, scoring='neg_mean_squared_error')\n",
    "gsc.fit(x_train, np.reshape(y_train, (y_train.shape[0],)))"
   ],
   "metadata": {
    "collapsed": false,
    "pycharm": {
     "name": "#%%\n"
    }
   }
  },
  {
   "cell_type": "code",
   "execution_count": null,
   "outputs": [],
   "source": [
    "gsc.best_params_"
   ],
   "metadata": {
    "collapsed": false,
    "pycharm": {
     "name": "#%%\n"
    }
   }
  },
  {
   "cell_type": "markdown",
   "source": [
    "Check result for test data."
   ],
   "metadata": {
    "collapsed": false,
    "pycharm": {
     "name": "#%% md\n"
    }
   }
  },
  {
   "cell_type": "code",
   "execution_count": null,
   "outputs": [],
   "source": [
    "rfr = RandomForestRegressor(criterion='poisson', max_depth=600, max_leaf_nodes=550, min_samples_leaf=2, min_samples_split=15, n_estimators=250, random_state=1234)\n",
    "rfr.fit(x_train, np.reshape(y_train, (y_train.shape[0],)))"
   ],
   "metadata": {
    "collapsed": false,
    "ExecuteTime": {
     "end_time": "2023-08-15T19:00:09.766009Z",
     "start_time": "2023-08-15T19:00:03.805549Z"
    },
    "pycharm": {
     "name": "#%%\n",
     "is_executing": true
    }
   }
  },
  {
   "cell_type": "code",
   "execution_count": null,
   "outputs": [],
   "source": [
    "mean_squared_error(np.reshape(y_test, (y_test.shape[0],)), rfr.predict(x_test))"
   ],
   "metadata": {
    "collapsed": false,
    "ExecuteTime": {
     "end_time": "2023-08-15T19:00:09.871110Z",
     "start_time": "2023-08-15T19:00:09.768236Z"
    },
    "pycharm": {
     "name": "#%%\n",
     "is_executing": true
    }
   }
  },
  {
   "cell_type": "code",
   "execution_count": null,
   "outputs": [],
   "source": [
    "bins = np.linspace(0, 500_000, 100)\n",
    "plt.hist(scaler_target.inverse_transform(y_test), bins, alpha=0.5, label='true')\n",
    "plt.hist(scaler_target.inverse_transform(np.reshape(rfr.predict(x_test), (-1, 1))), bins , alpha=0.5, label='predicted')\n",
    "plt.legend(loc='upper right')\n",
    "plt.show()"
   ],
   "metadata": {
    "collapsed": false,
    "ExecuteTime": {
     "end_time": "2023-08-15T19:00:10.160638Z",
     "start_time": "2023-08-15T19:00:09.873679Z"
    },
    "pycharm": {
     "name": "#%%\n",
     "is_executing": true
    }
   }
  },
  {
   "cell_type": "markdown",
   "source": [
    "Distribution isn't ideal but has similar shape."
   ],
   "metadata": {
    "collapsed": false,
    "pycharm": {
     "name": "#%% md\n"
    }
   }
  },
  {
   "cell_type": "code",
   "execution_count": null,
   "outputs": [],
   "source": [],
   "metadata": {
    "collapsed": false,
    "pycharm": {
     "name": "#%%\n"
    }
   }
  }
 ],
 "metadata": {
  "kernelspec": {
   "display_name": "Python 3",
   "language": "python",
   "name": "python3"
  },
  "language_info": {
   "codemirror_mode": {
    "name": "ipython",
    "version": 2
   },
   "file_extension": ".py",
   "mimetype": "text/x-python",
   "name": "python",
   "nbconvert_exporter": "python",
   "pygments_lexer": "ipython2",
   "version": "2.7.6"
  }
 },
 "nbformat": 4,
 "nbformat_minor": 0
}