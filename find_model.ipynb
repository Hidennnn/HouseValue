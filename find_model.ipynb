{
 "cells": [
  {
   "cell_type": "code",
   "execution_count": 1,
   "metadata": {
    "collapsed": true,
    "ExecuteTime": {
     "end_time": "2023-08-03T17:31:34.165181Z",
     "start_time": "2023-08-03T17:31:34.155261Z"
    }
   },
   "outputs": [],
   "source": [
    "import pandas as pd"
   ]
  },
  {
   "cell_type": "code",
   "execution_count": 2,
   "outputs": [],
   "source": [
    "df = pd.read_csv('data/housing.csv')"
   ],
   "metadata": {
    "collapsed": false,
    "ExecuteTime": {
     "end_time": "2023-08-03T17:31:34.915726Z",
     "start_time": "2023-08-03T17:31:34.888258Z"
    }
   }
  },
  {
   "cell_type": "markdown",
   "source": [
    "Drop columns with multicollinearity."
   ],
   "metadata": {
    "collapsed": false
   }
  },
  {
   "cell_type": "code",
   "execution_count": 3,
   "outputs": [],
   "source": [
    "from sklearn.preprocessing import LabelEncoder\n",
    "\n",
    "df['ocean_proximity'] = LabelEncoder().fit_transform(df['ocean_proximity'])"
   ],
   "metadata": {
    "collapsed": false,
    "ExecuteTime": {
     "end_time": "2023-08-03T17:31:36.067316Z",
     "start_time": "2023-08-03T17:31:35.990153Z"
    }
   }
  },
  {
   "cell_type": "code",
   "execution_count": 4,
   "outputs": [
    {
     "data": {
      "text/plain": "0        41.0\n1        21.0\n2        52.0\n3        52.0\n4        52.0\n         ... \n20635    25.0\n20636    18.0\n20637    17.0\n20638    18.0\n20639    16.0\nName: housing_median_age, Length: 20640, dtype: float64"
     },
     "execution_count": 4,
     "metadata": {},
     "output_type": "execute_result"
    }
   ],
   "source": [
    "df.pop('latitude')\n",
    "df.pop('total_rooms')\n",
    "df.pop('total_bedrooms')\n",
    "df.pop('households')\n",
    "df.pop('housing_median_age')"
   ],
   "metadata": {
    "collapsed": false,
    "ExecuteTime": {
     "end_time": "2023-08-03T17:31:37.227420Z",
     "start_time": "2023-08-03T17:31:37.221065Z"
    }
   }
  },
  {
   "cell_type": "code",
   "execution_count": 5,
   "outputs": [],
   "source": [
    "import numpy as np\n",
    "from scipy.stats import zscore\n",
    "outliers = df[(np.abs(zscore(df)) > 3).all(axis=1)]\n",
    "\n",
    "df = df[(np.abs(zscore(df)) <= 3).all(axis=1)]"
   ],
   "metadata": {
    "collapsed": false,
    "ExecuteTime": {
     "end_time": "2023-08-03T17:31:38.774067Z",
     "start_time": "2023-08-03T17:31:38.758854Z"
    }
   }
  },
  {
   "cell_type": "code",
   "execution_count": 6,
   "outputs": [],
   "source": [
    "target = df.pop('median_house_value')"
   ],
   "metadata": {
    "collapsed": false,
    "ExecuteTime": {
     "end_time": "2023-08-03T17:31:39.902205Z",
     "start_time": "2023-08-03T17:31:39.889460Z"
    }
   }
  },
  {
   "cell_type": "code",
   "execution_count": 7,
   "outputs": [],
   "source": [
    "features = df"
   ],
   "metadata": {
    "collapsed": false,
    "ExecuteTime": {
     "end_time": "2023-08-03T17:31:40.611478Z",
     "start_time": "2023-08-03T17:31:40.599228Z"
    }
   }
  },
  {
   "cell_type": "code",
   "execution_count": 8,
   "outputs": [],
   "source": [
    "from sklearn.preprocessing import MinMaxScaler"
   ],
   "metadata": {
    "collapsed": false,
    "ExecuteTime": {
     "end_time": "2023-08-03T17:31:41.109688Z",
     "start_time": "2023-08-03T17:31:41.103013Z"
    }
   }
  },
  {
   "cell_type": "code",
   "execution_count": 9,
   "outputs": [],
   "source": [
    "scaler_feature = MinMaxScaler().fit(features)\n",
    "features = scaler_feature.transform(features)"
   ],
   "metadata": {
    "collapsed": false,
    "ExecuteTime": {
     "end_time": "2023-08-03T17:31:41.612937Z",
     "start_time": "2023-08-03T17:31:41.606102Z"
    }
   }
  },
  {
   "cell_type": "code",
   "execution_count": 10,
   "outputs": [],
   "source": [
    "target = target.to_numpy()"
   ],
   "metadata": {
    "collapsed": false,
    "ExecuteTime": {
     "end_time": "2023-08-03T17:31:42.410138Z",
     "start_time": "2023-08-03T17:31:42.394464Z"
    }
   }
  },
  {
   "cell_type": "code",
   "execution_count": 11,
   "outputs": [],
   "source": [
    "scaler_target = MinMaxScaler().fit(np.reshape(target, (-1, 1)))"
   ],
   "metadata": {
    "collapsed": false,
    "ExecuteTime": {
     "end_time": "2023-08-03T17:31:42.828813Z",
     "start_time": "2023-08-03T17:31:42.808339Z"
    }
   }
  },
  {
   "cell_type": "code",
   "execution_count": 12,
   "outputs": [],
   "source": [
    "target = scaler_target.transform(np.reshape(target, (-1, 1)))"
   ],
   "metadata": {
    "collapsed": false,
    "ExecuteTime": {
     "end_time": "2023-08-03T17:31:43.321672Z",
     "start_time": "2023-08-03T17:31:43.314546Z"
    }
   }
  },
  {
   "cell_type": "code",
   "execution_count": 13,
   "outputs": [],
   "source": [
    "from sklearn.model_selection import train_test_split\n",
    "x_train, x_test, y_train, y_test = train_test_split(features, target, test_size=0.2, random_state=1234)"
   ],
   "metadata": {
    "collapsed": false,
    "ExecuteTime": {
     "end_time": "2023-08-03T17:31:44.003721Z",
     "start_time": "2023-08-03T17:31:43.950985Z"
    }
   }
  },
  {
   "cell_type": "code",
   "execution_count": 14,
   "outputs": [],
   "source": [
    "from sklearn.model_selection import cross_val_score\n",
    "from statistics import mean"
   ],
   "metadata": {
    "collapsed": false,
    "ExecuteTime": {
     "end_time": "2023-08-03T17:31:44.590132Z",
     "start_time": "2023-08-03T17:31:44.576925Z"
    }
   }
  },
  {
   "cell_type": "code",
   "execution_count": 15,
   "outputs": [],
   "source": [
    "from sklearn.linear_model import LinearRegression"
   ],
   "metadata": {
    "collapsed": false,
    "ExecuteTime": {
     "end_time": "2023-08-03T17:31:45.471082Z",
     "start_time": "2023-08-03T17:31:45.420696Z"
    }
   }
  },
  {
   "cell_type": "code",
   "execution_count": 16,
   "outputs": [
    {
     "name": "stdout",
     "output_type": "stream",
     "text": [
      "-0.02910375833215131\n"
     ]
    },
    {
     "name": "stderr",
     "output_type": "stream",
     "text": [
      "[Parallel(n_jobs=1)]: Using backend SequentialBackend with 1 concurrent workers.\n",
      "[Parallel(n_jobs=1)]: Done   5 out of   5 | elapsed:    0.0s finished\n"
     ]
    }
   ],
   "source": [
    "print(mean(cross_val_score(LinearRegression(), x_train, y_train, cv=5, verbose=1, scoring='neg_mean_squared_error')))"
   ],
   "metadata": {
    "collapsed": false,
    "ExecuteTime": {
     "end_time": "2023-08-03T17:31:46.268586Z",
     "start_time": "2023-08-03T17:31:46.208395Z"
    }
   }
  },
  {
   "cell_type": "code",
   "execution_count": 17,
   "outputs": [],
   "source": [
    "from sklearn.linear_model import Ridge"
   ],
   "metadata": {
    "collapsed": false,
    "ExecuteTime": {
     "end_time": "2023-08-03T17:31:47.378900Z",
     "start_time": "2023-08-03T17:31:47.367633Z"
    }
   }
  },
  {
   "cell_type": "code",
   "execution_count": 18,
   "outputs": [
    {
     "name": "stdout",
     "output_type": "stream",
     "text": [
      "-0.029103887351972352\n"
     ]
    },
    {
     "name": "stderr",
     "output_type": "stream",
     "text": [
      "[Parallel(n_jobs=1)]: Using backend SequentialBackend with 1 concurrent workers.\n",
      "[Parallel(n_jobs=1)]: Done   5 out of   5 | elapsed:    0.0s finished\n"
     ]
    }
   ],
   "source": [
    "print(mean(cross_val_score(Ridge(), x_train, y_train, cv=5, verbose=1, scoring='neg_mean_squared_error')))"
   ],
   "metadata": {
    "collapsed": false,
    "ExecuteTime": {
     "end_time": "2023-08-03T17:31:48.272216Z",
     "start_time": "2023-08-03T17:31:48.183332Z"
    }
   }
  },
  {
   "cell_type": "code",
   "execution_count": 19,
   "outputs": [],
   "source": [
    "from sklearn.linear_model import SGDRegressor"
   ],
   "metadata": {
    "collapsed": false,
    "ExecuteTime": {
     "end_time": "2023-08-03T17:31:49.154334Z",
     "start_time": "2023-08-03T17:31:49.140911Z"
    }
   }
  },
  {
   "cell_type": "code",
   "execution_count": 20,
   "outputs": [
    {
     "name": "stdout",
     "output_type": "stream",
     "text": [
      "-0.02934674402775249\n"
     ]
    },
    {
     "name": "stderr",
     "output_type": "stream",
     "text": [
      "[Parallel(n_jobs=1)]: Using backend SequentialBackend with 1 concurrent workers.\n",
      "[Parallel(n_jobs=1)]: Done   5 out of   5 | elapsed:    0.1s finished\n"
     ]
    }
   ],
   "source": [
    "print(mean(cross_val_score(SGDRegressor(), x_train, np.reshape(y_train, (y_train.shape[0],)), cv=5, verbose=1, scoring='neg_mean_squared_error')))"
   ],
   "metadata": {
    "collapsed": false,
    "ExecuteTime": {
     "end_time": "2023-08-03T17:31:49.896135Z",
     "start_time": "2023-08-03T17:31:49.807888Z"
    }
   }
  },
  {
   "cell_type": "code",
   "execution_count": 21,
   "outputs": [],
   "source": [
    "from sklearn.linear_model import Lasso"
   ],
   "metadata": {
    "collapsed": false,
    "ExecuteTime": {
     "end_time": "2023-08-03T17:31:50.992833Z",
     "start_time": "2023-08-03T17:31:50.980426Z"
    }
   }
  },
  {
   "cell_type": "code",
   "execution_count": 22,
   "outputs": [
    {
     "name": "stdout",
     "output_type": "stream",
     "text": [
      "-0.051968748304053604\n"
     ]
    },
    {
     "name": "stderr",
     "output_type": "stream",
     "text": [
      "[Parallel(n_jobs=1)]: Using backend SequentialBackend with 1 concurrent workers.\n",
      "[Parallel(n_jobs=1)]: Done   5 out of   5 | elapsed:    0.0s finished\n"
     ]
    }
   ],
   "source": [
    "print(mean(cross_val_score(Lasso(random_state=1234, tol=0.001, selection='cyclic', alpha=0.3), x_train, y_train, cv=5, verbose=1, scoring='neg_mean_squared_error')))"
   ],
   "metadata": {
    "collapsed": false,
    "ExecuteTime": {
     "end_time": "2023-08-03T17:31:51.565564Z",
     "start_time": "2023-08-03T17:31:51.510678Z"
    }
   }
  },
  {
   "cell_type": "code",
   "execution_count": 23,
   "outputs": [],
   "source": [
    "from sklearn.gaussian_process import GaussianProcessRegressor"
   ],
   "metadata": {
    "collapsed": false,
    "ExecuteTime": {
     "end_time": "2023-08-03T17:31:52.250579Z",
     "start_time": "2023-08-03T17:31:52.236213Z"
    }
   }
  },
  {
   "cell_type": "code",
   "execution_count": 24,
   "outputs": [
    {
     "name": "stderr",
     "output_type": "stream",
     "text": [
      "[Parallel(n_jobs=1)]: Using backend SequentialBackend with 1 concurrent workers.\n"
     ]
    },
    {
     "name": "stdout",
     "output_type": "stream",
     "text": [
      "-0.019526433824213565\n"
     ]
    },
    {
     "name": "stderr",
     "output_type": "stream",
     "text": [
      "[Parallel(n_jobs=1)]: Done   5 out of   5 | elapsed:  1.7min finished\n"
     ]
    }
   ],
   "source": [
    "print(mean(cross_val_score(GaussianProcessRegressor(), x_train, y_train, cv=5, verbose=1, scoring='neg_mean_squared_error')))"
   ],
   "metadata": {
    "collapsed": false,
    "ExecuteTime": {
     "end_time": "2023-08-03T17:33:32.464300Z",
     "start_time": "2023-08-03T17:31:52.690120Z"
    }
   }
  },
  {
   "cell_type": "code",
   "execution_count": 25,
   "outputs": [],
   "source": [
    "from sklearn.kernel_ridge import KernelRidge"
   ],
   "metadata": {
    "collapsed": false,
    "ExecuteTime": {
     "end_time": "2023-08-03T17:33:32.470720Z",
     "start_time": "2023-08-03T17:33:32.463097Z"
    }
   }
  },
  {
   "cell_type": "code",
   "execution_count": 26,
   "outputs": [
    {
     "name": "stderr",
     "output_type": "stream",
     "text": [
      "[Parallel(n_jobs=1)]: Using backend SequentialBackend with 1 concurrent workers.\n"
     ]
    },
    {
     "name": "stdout",
     "output_type": "stream",
     "text": [
      "-0.029483978859666148\n"
     ]
    },
    {
     "name": "stderr",
     "output_type": "stream",
     "text": [
      "[Parallel(n_jobs=1)]: Done   5 out of   5 | elapsed:   39.7s finished\n"
     ]
    }
   ],
   "source": [
    "print(mean(cross_val_score(KernelRidge(), x_train, y_train, cv=5, verbose=1, scoring='neg_mean_squared_error')))"
   ],
   "metadata": {
    "collapsed": false,
    "ExecuteTime": {
     "end_time": "2023-08-03T17:34:12.223285Z",
     "start_time": "2023-08-03T17:33:32.473045Z"
    }
   }
  },
  {
   "cell_type": "code",
   "execution_count": 27,
   "outputs": [],
   "source": [
    "from sklearn.svm import LinearSVR"
   ],
   "metadata": {
    "collapsed": false,
    "ExecuteTime": {
     "end_time": "2023-08-03T17:34:12.281934Z",
     "start_time": "2023-08-03T17:34:12.231267Z"
    }
   }
  },
  {
   "cell_type": "code",
   "execution_count": 28,
   "outputs": [
    {
     "name": "stderr",
     "output_type": "stream",
     "text": [
      "[Parallel(n_jobs=1)]: Using backend SequentialBackend with 1 concurrent workers.\n"
     ]
    },
    {
     "name": "stdout",
     "output_type": "stream",
     "text": [
      "-0.030338948356112703\n"
     ]
    },
    {
     "name": "stderr",
     "output_type": "stream",
     "text": [
      "[Parallel(n_jobs=1)]: Done   5 out of   5 | elapsed:    0.3s finished\n"
     ]
    }
   ],
   "source": [
    "print(mean(cross_val_score(LinearSVR(max_iter=100000), x_train, np.reshape(y_train, (y_train.shape[0],)), cv=5, verbose=1, scoring='neg_mean_squared_error')))"
   ],
   "metadata": {
    "collapsed": false,
    "ExecuteTime": {
     "end_time": "2023-08-03T17:34:12.585250Z",
     "start_time": "2023-08-03T17:34:12.291971Z"
    }
   }
  },
  {
   "cell_type": "code",
   "execution_count": 29,
   "outputs": [],
   "source": [
    "from sklearn.ensemble import RandomForestRegressor"
   ],
   "metadata": {
    "collapsed": false,
    "ExecuteTime": {
     "end_time": "2023-08-03T17:34:12.650669Z",
     "start_time": "2023-08-03T17:34:12.586054Z"
    }
   }
  },
  {
   "cell_type": "code",
   "execution_count": 30,
   "outputs": [
    {
     "name": "stderr",
     "output_type": "stream",
     "text": [
      "[Parallel(n_jobs=1)]: Using backend SequentialBackend with 1 concurrent workers.\n"
     ]
    },
    {
     "name": "stdout",
     "output_type": "stream",
     "text": [
      "-0.01705971009878002\n"
     ]
    },
    {
     "name": "stderr",
     "output_type": "stream",
     "text": [
      "[Parallel(n_jobs=1)]: Done   5 out of   5 | elapsed:   11.6s finished\n"
     ]
    }
   ],
   "source": [
    "print(mean(cross_val_score(RandomForestRegressor(), x_train, np.reshape(y_train, (y_train.shape[0],)), cv=5, verbose=1, scoring='neg_mean_squared_error')))"
   ],
   "metadata": {
    "collapsed": false,
    "ExecuteTime": {
     "end_time": "2023-08-03T17:34:24.236167Z",
     "start_time": "2023-08-03T17:34:12.652403Z"
    }
   }
  },
  {
   "cell_type": "markdown",
   "source": [
    "The best is RandomForestRegressor. I will find hyperparameters for it."
   ],
   "metadata": {
    "collapsed": false
   }
  },
  {
   "cell_type": "code",
   "execution_count": 31,
   "outputs": [],
   "source": [
    "from sklearn.model_selection import GridSearchCV"
   ],
   "metadata": {
    "collapsed": false,
    "ExecuteTime": {
     "end_time": "2023-08-03T17:34:24.238524Z",
     "start_time": "2023-08-03T17:34:24.236851Z"
    }
   }
  },
  {
   "cell_type": "code",
   "execution_count": 37,
   "outputs": [],
   "source": [
    "params = {\n",
    "    'n_estimators': [200, 250, 300, 350, 400, 450, 500],\n",
    "    'max_depth': [None, 10, 50, 100, 200],\n",
    "    'min_samples_split': [2, 4, 8, 10, 20],\n",
    "    'min_samples_leaf': [1, 2, 5, 10, 20]\n",
    "}"
   ],
   "metadata": {
    "collapsed": false,
    "ExecuteTime": {
     "end_time": "2023-08-03T17:48:05.938802Z",
     "start_time": "2023-08-03T17:48:05.928487Z"
    }
   }
  },
  {
   "cell_type": "code",
   "execution_count": null,
   "outputs": [
    {
     "name": "stdout",
     "output_type": "stream",
     "text": [
      "Fitting 5 folds for each of 875 candidates, totalling 4375 fits\n",
      "[CV 1/5] END max_depth=None, min_samples_leaf=1, min_samples_split=2, n_estimators=200;, score=-0.017 total time=   4.7s\n",
      "[CV 2/5] END max_depth=None, min_samples_leaf=1, min_samples_split=2, n_estimators=200;, score=-0.017 total time=   4.6s\n",
      "[CV 3/5] END max_depth=None, min_samples_leaf=1, min_samples_split=2, n_estimators=200;, score=-0.017 total time=   4.6s\n",
      "[CV 4/5] END max_depth=None, min_samples_leaf=1, min_samples_split=2, n_estimators=200;, score=-0.017 total time=   4.6s\n",
      "[CV 5/5] END max_depth=None, min_samples_leaf=1, min_samples_split=2, n_estimators=200;, score=-0.016 total time=   4.5s\n",
      "[CV 1/5] END max_depth=None, min_samples_leaf=1, min_samples_split=2, n_estimators=250;, score=-0.017 total time=   5.8s\n",
      "[CV 2/5] END max_depth=None, min_samples_leaf=1, min_samples_split=2, n_estimators=250;, score=-0.017 total time=   5.7s\n",
      "[CV 3/5] END max_depth=None, min_samples_leaf=1, min_samples_split=2, n_estimators=250;, score=-0.018 total time=   5.7s\n",
      "[CV 4/5] END max_depth=None, min_samples_leaf=1, min_samples_split=2, n_estimators=250;, score=-0.017 total time=   5.7s\n",
      "[CV 5/5] END max_depth=None, min_samples_leaf=1, min_samples_split=2, n_estimators=250;, score=-0.016 total time=   5.7s\n",
      "[CV 1/5] END max_depth=None, min_samples_leaf=1, min_samples_split=2, n_estimators=300;, score=-0.017 total time=   6.9s\n",
      "[CV 2/5] END max_depth=None, min_samples_leaf=1, min_samples_split=2, n_estimators=300;, score=-0.017 total time=   6.9s\n",
      "[CV 3/5] END max_depth=None, min_samples_leaf=1, min_samples_split=2, n_estimators=300;, score=-0.017 total time=   6.9s\n",
      "[CV 4/5] END max_depth=None, min_samples_leaf=1, min_samples_split=2, n_estimators=300;, score=-0.017 total time=   6.9s\n",
      "[CV 5/5] END max_depth=None, min_samples_leaf=1, min_samples_split=2, n_estimators=300;, score=-0.016 total time=   6.8s\n",
      "[CV 1/5] END max_depth=None, min_samples_leaf=1, min_samples_split=2, n_estimators=350;, score=-0.017 total time=   8.1s\n",
      "[CV 2/5] END max_depth=None, min_samples_leaf=1, min_samples_split=2, n_estimators=350;, score=-0.017 total time=   8.0s\n",
      "[CV 3/5] END max_depth=None, min_samples_leaf=1, min_samples_split=2, n_estimators=350;, score=-0.018 total time=   8.0s\n",
      "[CV 4/5] END max_depth=None, min_samples_leaf=1, min_samples_split=2, n_estimators=350;, score=-0.017 total time=   8.0s\n",
      "[CV 5/5] END max_depth=None, min_samples_leaf=1, min_samples_split=2, n_estimators=350;, score=-0.016 total time=   7.9s\n",
      "[CV 1/5] END max_depth=None, min_samples_leaf=1, min_samples_split=2, n_estimators=400;, score=-0.017 total time=   9.2s\n",
      "[CV 2/5] END max_depth=None, min_samples_leaf=1, min_samples_split=2, n_estimators=400;, score=-0.017 total time=   9.2s\n",
      "[CV 3/5] END max_depth=None, min_samples_leaf=1, min_samples_split=2, n_estimators=400;, score=-0.017 total time=   9.2s\n",
      "[CV 4/5] END max_depth=None, min_samples_leaf=1, min_samples_split=2, n_estimators=400;, score=-0.017 total time=   9.1s\n",
      "[CV 5/5] END max_depth=None, min_samples_leaf=1, min_samples_split=2, n_estimators=400;, score=-0.016 total time=   9.1s\n",
      "[CV 1/5] END max_depth=None, min_samples_leaf=1, min_samples_split=2, n_estimators=450;, score=-0.017 total time=  10.4s\n",
      "[CV 2/5] END max_depth=None, min_samples_leaf=1, min_samples_split=2, n_estimators=450;, score=-0.017 total time=  10.3s\n",
      "[CV 3/5] END max_depth=None, min_samples_leaf=1, min_samples_split=2, n_estimators=450;, score=-0.017 total time=  10.3s\n",
      "[CV 4/5] END max_depth=None, min_samples_leaf=1, min_samples_split=2, n_estimators=450;, score=-0.017 total time=  10.3s\n",
      "[CV 5/5] END max_depth=None, min_samples_leaf=1, min_samples_split=2, n_estimators=450;, score=-0.016 total time=  10.2s\n",
      "[CV 1/5] END max_depth=None, min_samples_leaf=1, min_samples_split=2, n_estimators=500;, score=-0.017 total time=  11.5s\n",
      "[CV 2/5] END max_depth=None, min_samples_leaf=1, min_samples_split=2, n_estimators=500;, score=-0.017 total time=  11.4s\n",
      "[CV 3/5] END max_depth=None, min_samples_leaf=1, min_samples_split=2, n_estimators=500;, score=-0.018 total time=  11.5s\n",
      "[CV 4/5] END max_depth=None, min_samples_leaf=1, min_samples_split=2, n_estimators=500;, score=-0.017 total time=  11.4s\n",
      "[CV 5/5] END max_depth=None, min_samples_leaf=1, min_samples_split=2, n_estimators=500;, score=-0.016 total time=  11.3s\n",
      "[CV 1/5] END max_depth=None, min_samples_leaf=1, min_samples_split=4, n_estimators=200;, score=-0.017 total time=   4.3s\n",
      "[CV 2/5] END max_depth=None, min_samples_leaf=1, min_samples_split=4, n_estimators=200;, score=-0.017 total time=   4.3s\n",
      "[CV 3/5] END max_depth=None, min_samples_leaf=1, min_samples_split=4, n_estimators=200;, score=-0.018 total time=   4.3s\n",
      "[CV 4/5] END max_depth=None, min_samples_leaf=1, min_samples_split=4, n_estimators=200;, score=-0.017 total time=   4.3s\n",
      "[CV 5/5] END max_depth=None, min_samples_leaf=1, min_samples_split=4, n_estimators=200;, score=-0.016 total time=   4.3s\n",
      "[CV 1/5] END max_depth=None, min_samples_leaf=1, min_samples_split=4, n_estimators=250;, score=-0.017 total time=   5.4s\n",
      "[CV 2/5] END max_depth=None, min_samples_leaf=1, min_samples_split=4, n_estimators=250;, score=-0.017 total time=   5.4s\n",
      "[CV 3/5] END max_depth=None, min_samples_leaf=1, min_samples_split=4, n_estimators=250;, score=-0.017 total time=   5.4s\n",
      "[CV 4/5] END max_depth=None, min_samples_leaf=1, min_samples_split=4, n_estimators=250;, score=-0.017 total time=   5.4s\n",
      "[CV 5/5] END max_depth=None, min_samples_leaf=1, min_samples_split=4, n_estimators=250;, score=-0.016 total time=   5.3s\n",
      "[CV 1/5] END max_depth=None, min_samples_leaf=1, min_samples_split=4, n_estimators=300;, score=-0.017 total time=   6.5s\n",
      "[CV 2/5] END max_depth=None, min_samples_leaf=1, min_samples_split=4, n_estimators=300;, score=-0.017 total time=   6.5s\n",
      "[CV 3/5] END max_depth=None, min_samples_leaf=1, min_samples_split=4, n_estimators=300;, score=-0.017 total time=   6.5s\n",
      "[CV 4/5] END max_depth=None, min_samples_leaf=1, min_samples_split=4, n_estimators=300;, score=-0.017 total time=   6.4s\n",
      "[CV 5/5] END max_depth=None, min_samples_leaf=1, min_samples_split=4, n_estimators=300;, score=-0.016 total time=   6.4s\n",
      "[CV 1/5] END max_depth=None, min_samples_leaf=1, min_samples_split=4, n_estimators=350;, score=-0.017 total time=   7.6s\n",
      "[CV 2/5] END max_depth=None, min_samples_leaf=1, min_samples_split=4, n_estimators=350;, score=-0.017 total time=   7.5s\n",
      "[CV 3/5] END max_depth=None, min_samples_leaf=1, min_samples_split=4, n_estimators=350;, score=-0.017 total time=   7.6s\n",
      "[CV 4/5] END max_depth=None, min_samples_leaf=1, min_samples_split=4, n_estimators=350;, score=-0.017 total time=   7.5s\n",
      "[CV 5/5] END max_depth=None, min_samples_leaf=1, min_samples_split=4, n_estimators=350;, score=-0.016 total time=   7.4s\n",
      "[CV 1/5] END max_depth=None, min_samples_leaf=1, min_samples_split=4, n_estimators=400;, score=-0.017 total time=   8.6s\n",
      "[CV 2/5] END max_depth=None, min_samples_leaf=1, min_samples_split=4, n_estimators=400;, score=-0.017 total time=   8.6s\n",
      "[CV 3/5] END max_depth=None, min_samples_leaf=1, min_samples_split=4, n_estimators=400;, score=-0.017 total time=   8.6s\n",
      "[CV 4/5] END max_depth=None, min_samples_leaf=1, min_samples_split=4, n_estimators=400;, score=-0.017 total time=   8.6s\n",
      "[CV 5/5] END max_depth=None, min_samples_leaf=1, min_samples_split=4, n_estimators=400;, score=-0.016 total time=   8.5s\n",
      "[CV 1/5] END max_depth=None, min_samples_leaf=1, min_samples_split=4, n_estimators=450;, score=-0.017 total time=   9.7s\n",
      "[CV 2/5] END max_depth=None, min_samples_leaf=1, min_samples_split=4, n_estimators=450;, score=-0.017 total time=   9.7s\n",
      "[CV 3/5] END max_depth=None, min_samples_leaf=1, min_samples_split=4, n_estimators=450;, score=-0.017 total time=   9.7s\n",
      "[CV 4/5] END max_depth=None, min_samples_leaf=1, min_samples_split=4, n_estimators=450;, score=-0.017 total time=   9.7s\n",
      "[CV 5/5] END max_depth=None, min_samples_leaf=1, min_samples_split=4, n_estimators=450;, score=-0.016 total time=   9.6s\n",
      "[CV 1/5] END max_depth=None, min_samples_leaf=1, min_samples_split=4, n_estimators=500;, score=-0.017 total time=  10.8s\n",
      "[CV 2/5] END max_depth=None, min_samples_leaf=1, min_samples_split=4, n_estimators=500;, score=-0.017 total time=  10.7s\n",
      "[CV 3/5] END max_depth=None, min_samples_leaf=1, min_samples_split=4, n_estimators=500;, score=-0.017 total time=  10.8s\n",
      "[CV 4/5] END max_depth=None, min_samples_leaf=1, min_samples_split=4, n_estimators=500;, score=-0.017 total time=  10.7s\n",
      "[CV 5/5] END max_depth=None, min_samples_leaf=1, min_samples_split=4, n_estimators=500;, score=-0.016 total time=  10.7s\n",
      "[CV 1/5] END max_depth=None, min_samples_leaf=1, min_samples_split=8, n_estimators=200;, score=-0.017 total time=   4.1s\n",
      "[CV 2/5] END max_depth=None, min_samples_leaf=1, min_samples_split=8, n_estimators=200;, score=-0.017 total time=   4.0s\n",
      "[CV 3/5] END max_depth=None, min_samples_leaf=1, min_samples_split=8, n_estimators=200;, score=-0.017 total time=   4.0s\n",
      "[CV 4/5] END max_depth=None, min_samples_leaf=1, min_samples_split=8, n_estimators=200;, score=-0.016 total time=   4.0s\n",
      "[CV 5/5] END max_depth=None, min_samples_leaf=1, min_samples_split=8, n_estimators=200;, score=-0.016 total time=   4.0s\n",
      "[CV 1/5] END max_depth=None, min_samples_leaf=1, min_samples_split=8, n_estimators=250;, score=-0.017 total time=   5.1s\n",
      "[CV 2/5] END max_depth=None, min_samples_leaf=1, min_samples_split=8, n_estimators=250;, score=-0.017 total time=   5.0s\n",
      "[CV 3/5] END max_depth=None, min_samples_leaf=1, min_samples_split=8, n_estimators=250;, score=-0.017 total time=   5.1s\n",
      "[CV 4/5] END max_depth=None, min_samples_leaf=1, min_samples_split=8, n_estimators=250;, score=-0.016 total time=   5.0s\n",
      "[CV 5/5] END max_depth=None, min_samples_leaf=1, min_samples_split=8, n_estimators=250;, score=-0.016 total time=   5.0s\n",
      "[CV 1/5] END max_depth=None, min_samples_leaf=1, min_samples_split=8, n_estimators=300;, score=-0.017 total time=   6.1s\n",
      "[CV 2/5] END max_depth=None, min_samples_leaf=1, min_samples_split=8, n_estimators=300;, score=-0.017 total time=   6.0s\n",
      "[CV 3/5] END max_depth=None, min_samples_leaf=1, min_samples_split=8, n_estimators=300;, score=-0.017 total time=   6.1s\n",
      "[CV 4/5] END max_depth=None, min_samples_leaf=1, min_samples_split=8, n_estimators=300;, score=-0.016 total time=   6.1s\n",
      "[CV 5/5] END max_depth=None, min_samples_leaf=1, min_samples_split=8, n_estimators=300;, score=-0.016 total time=   8.9s\n",
      "[CV 1/5] END max_depth=None, min_samples_leaf=1, min_samples_split=8, n_estimators=350;, score=-0.017 total time=   7.1s\n",
      "[CV 2/5] END max_depth=None, min_samples_leaf=1, min_samples_split=8, n_estimators=350;, score=-0.017 total time=   7.1s\n",
      "[CV 3/5] END max_depth=None, min_samples_leaf=1, min_samples_split=8, n_estimators=350;, score=-0.017 total time=   7.1s\n",
      "[CV 4/5] END max_depth=None, min_samples_leaf=1, min_samples_split=8, n_estimators=350;, score=-0.016 total time=   7.1s\n",
      "[CV 5/5] END max_depth=None, min_samples_leaf=1, min_samples_split=8, n_estimators=350;, score=-0.016 total time=   7.0s\n",
      "[CV 1/5] END max_depth=None, min_samples_leaf=1, min_samples_split=8, n_estimators=400;, score=-0.017 total time=   8.1s\n",
      "[CV 2/5] END max_depth=None, min_samples_leaf=1, min_samples_split=8, n_estimators=400;, score=-0.017 total time= 1.3min\n",
      "[CV 3/5] END max_depth=None, min_samples_leaf=1, min_samples_split=8, n_estimators=400;, score=-0.017 total time=   8.1s\n",
      "[CV 4/5] END max_depth=None, min_samples_leaf=1, min_samples_split=8, n_estimators=400;, score=-0.016 total time=   8.0s\n",
      "[CV 5/5] END max_depth=None, min_samples_leaf=1, min_samples_split=8, n_estimators=400;, score=-0.016 total time=   7.9s\n",
      "[CV 1/5] END max_depth=None, min_samples_leaf=1, min_samples_split=8, n_estimators=450;, score=-0.017 total time=   9.1s\n",
      "[CV 2/5] END max_depth=None, min_samples_leaf=1, min_samples_split=8, n_estimators=450;, score=-0.017 total time=   9.1s\n",
      "[CV 3/5] END max_depth=None, min_samples_leaf=1, min_samples_split=8, n_estimators=450;, score=-0.017 total time=   9.1s\n",
      "[CV 4/5] END max_depth=None, min_samples_leaf=1, min_samples_split=8, n_estimators=450;, score=-0.016 total time=   9.0s\n",
      "[CV 5/5] END max_depth=None, min_samples_leaf=1, min_samples_split=8, n_estimators=450;, score=-0.016 total time=   9.0s\n",
      "[CV 1/5] END max_depth=None, min_samples_leaf=1, min_samples_split=8, n_estimators=500;, score=-0.017 total time=  10.1s\n",
      "[CV 2/5] END max_depth=None, min_samples_leaf=1, min_samples_split=8, n_estimators=500;, score=-0.017 total time=  10.1s\n",
      "[CV 3/5] END max_depth=None, min_samples_leaf=1, min_samples_split=8, n_estimators=500;, score=-0.017 total time=  10.1s\n",
      "[CV 4/5] END max_depth=None, min_samples_leaf=1, min_samples_split=8, n_estimators=500;, score=-0.016 total time=  10.0s\n",
      "[CV 5/5] END max_depth=None, min_samples_leaf=1, min_samples_split=8, n_estimators=500;, score=-0.016 total time=   9.9s\n",
      "[CV 1/5] END max_depth=None, min_samples_leaf=1, min_samples_split=10, n_estimators=200;, score=-0.017 total time=   4.0s\n",
      "[CV 2/5] END max_depth=None, min_samples_leaf=1, min_samples_split=10, n_estimators=200;, score=-0.017 total time=   3.9s\n",
      "[CV 3/5] END max_depth=None, min_samples_leaf=1, min_samples_split=10, n_estimators=200;, score=-0.017 total time=   3.9s\n",
      "[CV 4/5] END max_depth=None, min_samples_leaf=1, min_samples_split=10, n_estimators=200;, score=-0.016 total time=   3.9s\n",
      "[CV 5/5] END max_depth=None, min_samples_leaf=1, min_samples_split=10, n_estimators=200;, score=-0.016 total time=   3.9s\n",
      "[CV 1/5] END max_depth=None, min_samples_leaf=1, min_samples_split=10, n_estimators=250;, score=-0.017 total time=   4.9s\n",
      "[CV 2/5] END max_depth=None, min_samples_leaf=1, min_samples_split=10, n_estimators=250;, score=-0.017 total time=   4.9s\n",
      "[CV 3/5] END max_depth=None, min_samples_leaf=1, min_samples_split=10, n_estimators=250;, score=-0.017 total time=   4.9s\n",
      "[CV 4/5] END max_depth=None, min_samples_leaf=1, min_samples_split=10, n_estimators=250;, score=-0.016 total time=   4.9s\n",
      "[CV 5/5] END max_depth=None, min_samples_leaf=1, min_samples_split=10, n_estimators=250;, score=-0.016 total time=   4.8s\n",
      "[CV 1/5] END max_depth=None, min_samples_leaf=1, min_samples_split=10, n_estimators=300;, score=-0.017 total time=   5.9s\n",
      "[CV 2/5] END max_depth=None, min_samples_leaf=1, min_samples_split=10, n_estimators=300;, score=-0.017 total time=   5.9s\n",
      "[CV 3/5] END max_depth=None, min_samples_leaf=1, min_samples_split=10, n_estimators=300;, score=-0.017 total time=   5.9s\n",
      "[CV 4/5] END max_depth=None, min_samples_leaf=1, min_samples_split=10, n_estimators=300;, score=-0.016 total time=   5.9s\n",
      "[CV 5/5] END max_depth=None, min_samples_leaf=1, min_samples_split=10, n_estimators=300;, score=-0.016 total time=   5.8s\n",
      "[CV 1/5] END max_depth=None, min_samples_leaf=1, min_samples_split=10, n_estimators=350;, score=-0.017 total time=   6.9s\n",
      "[CV 2/5] END max_depth=None, min_samples_leaf=1, min_samples_split=10, n_estimators=350;, score=-0.017 total time=   6.9s\n",
      "[CV 3/5] END max_depth=None, min_samples_leaf=1, min_samples_split=10, n_estimators=350;, score=-0.017 total time=   6.9s\n",
      "[CV 4/5] END max_depth=None, min_samples_leaf=1, min_samples_split=10, n_estimators=350;, score=-0.016 total time=   6.9s\n",
      "[CV 5/5] END max_depth=None, min_samples_leaf=1, min_samples_split=10, n_estimators=350;, score=-0.016 total time=   6.8s\n",
      "[CV 1/5] END max_depth=None, min_samples_leaf=1, min_samples_split=10, n_estimators=400;, score=-0.017 total time=   7.9s\n",
      "[CV 2/5] END max_depth=None, min_samples_leaf=1, min_samples_split=10, n_estimators=400;, score=-0.017 total time=   7.9s\n",
      "[CV 3/5] END max_depth=None, min_samples_leaf=1, min_samples_split=10, n_estimators=400;, score=-0.017 total time=   7.9s\n",
      "[CV 4/5] END max_depth=None, min_samples_leaf=1, min_samples_split=10, n_estimators=400;, score=-0.016 total time=   7.8s\n",
      "[CV 5/5] END max_depth=None, min_samples_leaf=1, min_samples_split=10, n_estimators=400;, score=-0.016 total time=   7.8s\n",
      "[CV 1/5] END max_depth=None, min_samples_leaf=1, min_samples_split=10, n_estimators=450;, score=-0.017 total time=   8.9s\n",
      "[CV 2/5] END max_depth=None, min_samples_leaf=1, min_samples_split=10, n_estimators=450;, score=-0.017 total time=   8.8s\n",
      "[CV 3/5] END max_depth=None, min_samples_leaf=1, min_samples_split=10, n_estimators=450;, score=-0.017 total time=   8.9s\n",
      "[CV 4/5] END max_depth=None, min_samples_leaf=1, min_samples_split=10, n_estimators=450;, score=-0.016 total time=   8.8s\n",
      "[CV 5/5] END max_depth=None, min_samples_leaf=1, min_samples_split=10, n_estimators=450;, score=-0.016 total time=   8.7s\n",
      "[CV 1/5] END max_depth=None, min_samples_leaf=1, min_samples_split=10, n_estimators=500;, score=-0.017 total time=   9.9s\n",
      "[CV 2/5] END max_depth=None, min_samples_leaf=1, min_samples_split=10, n_estimators=500;, score=-0.017 total time=   9.8s\n",
      "[CV 3/5] END max_depth=None, min_samples_leaf=1, min_samples_split=10, n_estimators=500;, score=-0.017 total time=   9.8s\n",
      "[CV 4/5] END max_depth=None, min_samples_leaf=1, min_samples_split=10, n_estimators=500;, score=-0.016 total time=   9.8s\n",
      "[CV 5/5] END max_depth=None, min_samples_leaf=1, min_samples_split=10, n_estimators=500;, score=-0.016 total time=   9.7s\n",
      "[CV 1/5] END max_depth=None, min_samples_leaf=1, min_samples_split=20, n_estimators=200;, score=-0.017 total time=   3.7s\n",
      "[CV 2/5] END max_depth=None, min_samples_leaf=1, min_samples_split=20, n_estimators=200;, score=-0.017 total time=   3.6s\n",
      "[CV 3/5] END max_depth=None, min_samples_leaf=1, min_samples_split=20, n_estimators=200;, score=-0.017 total time=   3.7s\n",
      "[CV 4/5] END max_depth=None, min_samples_leaf=1, min_samples_split=20, n_estimators=200;, score=-0.016 total time=   3.7s\n",
      "[CV 5/5] END max_depth=None, min_samples_leaf=1, min_samples_split=20, n_estimators=200;, score=-0.016 total time=   3.6s\n",
      "[CV 1/5] END max_depth=None, min_samples_leaf=1, min_samples_split=20, n_estimators=250;, score=-0.017 total time=   4.6s\n",
      "[CV 2/5] END max_depth=None, min_samples_leaf=1, min_samples_split=20, n_estimators=250;, score=-0.017 total time=   4.5s\n",
      "[CV 3/5] END max_depth=None, min_samples_leaf=1, min_samples_split=20, n_estimators=250;, score=-0.017 total time=   4.6s\n",
      "[CV 4/5] END max_depth=None, min_samples_leaf=1, min_samples_split=20, n_estimators=250;, score=-0.016 total time=   4.6s\n",
      "[CV 5/5] END max_depth=None, min_samples_leaf=1, min_samples_split=20, n_estimators=250;, score=-0.016 total time=   4.5s\n",
      "[CV 1/5] END max_depth=None, min_samples_leaf=1, min_samples_split=20, n_estimators=300;, score=-0.016 total time=   5.5s\n",
      "[CV 2/5] END max_depth=None, min_samples_leaf=1, min_samples_split=20, n_estimators=300;, score=-0.017 total time=   5.5s\n",
      "[CV 3/5] END max_depth=None, min_samples_leaf=1, min_samples_split=20, n_estimators=300;, score=-0.017 total time=   5.5s\n",
      "[CV 4/5] END max_depth=None, min_samples_leaf=1, min_samples_split=20, n_estimators=300;, score=-0.016 total time=   5.4s\n",
      "[CV 5/5] END max_depth=None, min_samples_leaf=1, min_samples_split=20, n_estimators=300;, score=-0.016 total time=   5.4s\n",
      "[CV 1/5] END max_depth=None, min_samples_leaf=1, min_samples_split=20, n_estimators=350;, score=-0.016 total time=   6.4s\n",
      "[CV 2/5] END max_depth=None, min_samples_leaf=1, min_samples_split=20, n_estimators=350;, score=-0.017 total time=   6.4s\n",
      "[CV 3/5] END max_depth=None, min_samples_leaf=1, min_samples_split=20, n_estimators=350;, score=-0.017 total time=   6.4s\n",
      "[CV 4/5] END max_depth=None, min_samples_leaf=1, min_samples_split=20, n_estimators=350;, score=-0.016 total time=   6.4s\n",
      "[CV 5/5] END max_depth=None, min_samples_leaf=1, min_samples_split=20, n_estimators=350;, score=-0.016 total time=   6.3s\n",
      "[CV 1/5] END max_depth=None, min_samples_leaf=1, min_samples_split=20, n_estimators=400;, score=-0.016 total time=   7.3s\n",
      "[CV 2/5] END max_depth=None, min_samples_leaf=1, min_samples_split=20, n_estimators=400;, score=-0.017 total time=   7.3s\n",
      "[CV 3/5] END max_depth=None, min_samples_leaf=1, min_samples_split=20, n_estimators=400;, score=-0.017 total time=   7.3s\n",
      "[CV 4/5] END max_depth=None, min_samples_leaf=1, min_samples_split=20, n_estimators=400;, score=-0.016 total time=   7.3s\n",
      "[CV 5/5] END max_depth=None, min_samples_leaf=1, min_samples_split=20, n_estimators=400;, score=-0.016 total time=   7.2s\n",
      "[CV 1/5] END max_depth=None, min_samples_leaf=1, min_samples_split=20, n_estimators=450;, score=-0.016 total time=   8.2s\n",
      "[CV 2/5] END max_depth=None, min_samples_leaf=1, min_samples_split=20, n_estimators=450;, score=-0.017 total time=   8.2s\n",
      "[CV 3/5] END max_depth=None, min_samples_leaf=1, min_samples_split=20, n_estimators=450;, score=-0.017 total time=   8.2s\n",
      "[CV 4/5] END max_depth=None, min_samples_leaf=1, min_samples_split=20, n_estimators=450;, score=-0.016 total time=   8.1s\n",
      "[CV 5/5] END max_depth=None, min_samples_leaf=1, min_samples_split=20, n_estimators=450;, score=-0.016 total time=   8.1s\n",
      "[CV 1/5] END max_depth=None, min_samples_leaf=1, min_samples_split=20, n_estimators=500;, score=-0.016 total time=   9.2s\n",
      "[CV 2/5] END max_depth=None, min_samples_leaf=1, min_samples_split=20, n_estimators=500;, score=-0.017 total time=   9.1s\n",
      "[CV 3/5] END max_depth=None, min_samples_leaf=1, min_samples_split=20, n_estimators=500;, score=-0.017 total time=   9.1s\n",
      "[CV 4/5] END max_depth=None, min_samples_leaf=1, min_samples_split=20, n_estimators=500;, score=-0.016 total time=   9.1s\n",
      "[CV 5/5] END max_depth=None, min_samples_leaf=1, min_samples_split=20, n_estimators=500;, score=-0.016 total time=   9.0s\n",
      "[CV 1/5] END max_depth=None, min_samples_leaf=2, min_samples_split=2, n_estimators=200;, score=-0.017 total time=   4.1s\n",
      "[CV 2/5] END max_depth=None, min_samples_leaf=2, min_samples_split=2, n_estimators=200;, score=-0.017 total time=   4.1s\n",
      "[CV 3/5] END max_depth=None, min_samples_leaf=2, min_samples_split=2, n_estimators=200;, score=-0.017 total time=   4.1s\n",
      "[CV 4/5] END max_depth=None, min_samples_leaf=2, min_samples_split=2, n_estimators=200;, score=-0.016 total time=   4.1s\n",
      "[CV 5/5] END max_depth=None, min_samples_leaf=2, min_samples_split=2, n_estimators=200;, score=-0.016 total time=   4.0s\n",
      "[CV 1/5] END max_depth=None, min_samples_leaf=2, min_samples_split=2, n_estimators=250;, score=-0.017 total time=   5.1s\n",
      "[CV 2/5] END max_depth=None, min_samples_leaf=2, min_samples_split=2, n_estimators=250;, score=-0.017 total time=   5.1s\n",
      "[CV 3/5] END max_depth=None, min_samples_leaf=2, min_samples_split=2, n_estimators=250;, score=-0.017 total time=   5.2s\n",
      "[CV 4/5] END max_depth=None, min_samples_leaf=2, min_samples_split=2, n_estimators=250;, score=-0.016 total time=  53.6s\n",
      "[CV 5/5] END max_depth=None, min_samples_leaf=2, min_samples_split=2, n_estimators=250;, score=-0.016 total time=   5.0s\n",
      "[CV 1/5] END max_depth=None, min_samples_leaf=2, min_samples_split=2, n_estimators=300;, score=-0.017 total time=   6.1s\n",
      "[CV 2/5] END max_depth=None, min_samples_leaf=2, min_samples_split=2, n_estimators=300;, score=-0.017 total time=   6.1s\n",
      "[CV 3/5] END max_depth=None, min_samples_leaf=2, min_samples_split=2, n_estimators=300;, score=-0.017 total time=   6.1s\n",
      "[CV 4/5] END max_depth=None, min_samples_leaf=2, min_samples_split=2, n_estimators=300;, score=-0.016 total time=   6.1s\n",
      "[CV 5/5] END max_depth=None, min_samples_leaf=2, min_samples_split=2, n_estimators=300;, score=-0.016 total time=   6.0s\n",
      "[CV 1/5] END max_depth=None, min_samples_leaf=2, min_samples_split=2, n_estimators=350;, score=-0.017 total time=   7.1s\n",
      "[CV 2/5] END max_depth=None, min_samples_leaf=2, min_samples_split=2, n_estimators=350;, score=-0.017 total time= 3.0min\n",
      "[CV 3/5] END max_depth=None, min_samples_leaf=2, min_samples_split=2, n_estimators=350;, score=-0.017 total time=   7.0s\n",
      "[CV 4/5] END max_depth=None, min_samples_leaf=2, min_samples_split=2, n_estimators=350;, score=-0.016 total time=   7.0s\n",
      "[CV 5/5] END max_depth=None, min_samples_leaf=2, min_samples_split=2, n_estimators=350;, score=-0.016 total time=   7.0s\n",
      "[CV 1/5] END max_depth=None, min_samples_leaf=2, min_samples_split=2, n_estimators=400;, score=-0.017 total time=   8.1s\n",
      "[CV 2/5] END max_depth=None, min_samples_leaf=2, min_samples_split=2, n_estimators=400;, score=-0.017 total time=   8.1s\n",
      "[CV 3/5] END max_depth=None, min_samples_leaf=2, min_samples_split=2, n_estimators=400;, score=-0.017 total time=11.6min\n",
      "[CV 4/5] END max_depth=None, min_samples_leaf=2, min_samples_split=2, n_estimators=400;, score=-0.016 total time=   7.9s\n",
      "[CV 5/5] END max_depth=None, min_samples_leaf=2, min_samples_split=2, n_estimators=400;, score=-0.016 total time=   7.9s\n",
      "[CV 1/5] END max_depth=None, min_samples_leaf=2, min_samples_split=2, n_estimators=450;, score=-0.017 total time=   9.0s\n",
      "[CV 2/5] END max_depth=None, min_samples_leaf=2, min_samples_split=2, n_estimators=450;, score=-0.017 total time=   9.0s\n",
      "[CV 3/5] END max_depth=None, min_samples_leaf=2, min_samples_split=2, n_estimators=450;, score=-0.017 total time=   9.0s\n",
      "[CV 4/5] END max_depth=None, min_samples_leaf=2, min_samples_split=2, n_estimators=450;, score=-0.016 total time= 2.3min\n",
      "[CV 5/5] END max_depth=None, min_samples_leaf=2, min_samples_split=2, n_estimators=450;, score=-0.016 total time=   8.9s\n",
      "[CV 1/5] END max_depth=None, min_samples_leaf=2, min_samples_split=2, n_estimators=500;, score=-0.017 total time=  10.0s\n",
      "[CV 2/5] END max_depth=None, min_samples_leaf=2, min_samples_split=2, n_estimators=500;, score=-0.017 total time=  10.0s\n",
      "[CV 3/5] END max_depth=None, min_samples_leaf=2, min_samples_split=2, n_estimators=500;, score=-0.017 total time=  10.0s\n",
      "[CV 4/5] END max_depth=None, min_samples_leaf=2, min_samples_split=2, n_estimators=500;, score=-0.016 total time= 2.5min\n",
      "[CV 5/5] END max_depth=None, min_samples_leaf=2, min_samples_split=2, n_estimators=500;, score=-0.016 total time=   9.8s\n",
      "[CV 1/5] END max_depth=None, min_samples_leaf=2, min_samples_split=4, n_estimators=200;, score=-0.017 total time=   4.0s\n",
      "[CV 2/5] END max_depth=None, min_samples_leaf=2, min_samples_split=4, n_estimators=200;, score=-0.017 total time=   4.0s\n",
      "[CV 3/5] END max_depth=None, min_samples_leaf=2, min_samples_split=4, n_estimators=200;, score=-0.017 total time=   4.0s\n",
      "[CV 4/5] END max_depth=None, min_samples_leaf=2, min_samples_split=4, n_estimators=200;, score=-0.016 total time=   4.0s\n",
      "[CV 5/5] END max_depth=None, min_samples_leaf=2, min_samples_split=4, n_estimators=200;, score=-0.016 total time=   3.9s\n",
      "[CV 1/5] END max_depth=None, min_samples_leaf=2, min_samples_split=4, n_estimators=250;, score=-0.017 total time=   5.0s\n",
      "[CV 2/5] END max_depth=None, min_samples_leaf=2, min_samples_split=4, n_estimators=250;, score=-0.017 total time= 1.4min\n",
      "[CV 3/5] END max_depth=None, min_samples_leaf=2, min_samples_split=4, n_estimators=250;, score=-0.017 total time=   5.0s\n",
      "[CV 4/5] END max_depth=None, min_samples_leaf=2, min_samples_split=4, n_estimators=250;, score=-0.016 total time=   5.0s\n",
      "[CV 5/5] END max_depth=None, min_samples_leaf=2, min_samples_split=4, n_estimators=250;, score=-0.016 total time=   4.9s\n",
      "[CV 1/5] END max_depth=None, min_samples_leaf=2, min_samples_split=4, n_estimators=300;, score=-0.017 total time=   6.0s\n",
      "[CV 2/5] END max_depth=None, min_samples_leaf=2, min_samples_split=4, n_estimators=300;, score=-0.017 total time=   6.0s\n",
      "[CV 3/5] END max_depth=None, min_samples_leaf=2, min_samples_split=4, n_estimators=300;, score=-0.017 total time=   6.0s\n",
      "[CV 4/5] END max_depth=None, min_samples_leaf=2, min_samples_split=4, n_estimators=300;, score=-0.016 total time=   6.0s\n",
      "[CV 5/5] END max_depth=None, min_samples_leaf=2, min_samples_split=4, n_estimators=300;, score=-0.016 total time=   6.0s\n",
      "[CV 1/5] END max_depth=None, min_samples_leaf=2, min_samples_split=4, n_estimators=350;, score=-0.017 total time=15.1min\n",
      "[CV 2/5] END max_depth=None, min_samples_leaf=2, min_samples_split=4, n_estimators=350;, score=-0.017 total time=   7.0s\n",
      "[CV 3/5] END max_depth=None, min_samples_leaf=2, min_samples_split=4, n_estimators=350;, score=-0.017 total time=   7.0s\n",
      "[CV 4/5] END max_depth=None, min_samples_leaf=2, min_samples_split=4, n_estimators=350;, score=-0.017 total time=   6.9s\n",
      "[CV 5/5] END max_depth=None, min_samples_leaf=2, min_samples_split=4, n_estimators=350;, score=-0.016 total time=   6.9s\n",
      "[CV 1/5] END max_depth=None, min_samples_leaf=2, min_samples_split=4, n_estimators=400;, score=-0.017 total time=   8.0s\n",
      "[CV 2/5] END max_depth=None, min_samples_leaf=2, min_samples_split=4, n_estimators=400;, score=-0.017 total time= 8.2min\n",
      "[CV 3/5] END max_depth=None, min_samples_leaf=2, min_samples_split=4, n_estimators=400;, score=-0.017 total time=   8.0s\n",
      "[CV 4/5] END max_depth=None, min_samples_leaf=2, min_samples_split=4, n_estimators=400;, score=-0.016 total time=   7.9s\n",
      "[CV 5/5] END max_depth=None, min_samples_leaf=2, min_samples_split=4, n_estimators=400;, score=-0.016 total time=   7.9s\n",
      "[CV 1/5] END max_depth=None, min_samples_leaf=2, min_samples_split=4, n_estimators=450;, score=-0.017 total time=   9.0s\n",
      "[CV 2/5] END max_depth=None, min_samples_leaf=2, min_samples_split=4, n_estimators=450;, score=-0.017 total time=   8.9s\n",
      "[CV 3/5] END max_depth=None, min_samples_leaf=2, min_samples_split=4, n_estimators=450;, score=-0.017 total time=13.8min\n",
      "[CV 4/5] END max_depth=None, min_samples_leaf=2, min_samples_split=4, n_estimators=450;, score=-0.016 total time=   8.9s\n",
      "[CV 5/5] END max_depth=None, min_samples_leaf=2, min_samples_split=4, n_estimators=450;, score=-0.016 total time=   8.9s\n",
      "[CV 1/5] END max_depth=None, min_samples_leaf=2, min_samples_split=4, n_estimators=500;, score=-0.017 total time=  10.0s\n",
      "[CV 2/5] END max_depth=None, min_samples_leaf=2, min_samples_split=4, n_estimators=500;, score=-0.017 total time=   9.9s\n",
      "[CV 3/5] END max_depth=None, min_samples_leaf=2, min_samples_split=4, n_estimators=500;, score=-0.017 total time=  10.0s\n",
      "[CV 4/5] END max_depth=None, min_samples_leaf=2, min_samples_split=4, n_estimators=500;, score=-0.016 total time= 3.5min\n",
      "[CV 5/5] END max_depth=None, min_samples_leaf=2, min_samples_split=4, n_estimators=500;, score=-0.016 total time=   9.9s\n",
      "[CV 1/5] END max_depth=None, min_samples_leaf=2, min_samples_split=8, n_estimators=200;, score=-0.017 total time=   3.8s\n",
      "[CV 2/5] END max_depth=None, min_samples_leaf=2, min_samples_split=8, n_estimators=200;, score=-0.017 total time=   3.8s\n",
      "[CV 3/5] END max_depth=None, min_samples_leaf=2, min_samples_split=8, n_estimators=200;, score=-0.017 total time=   3.8s\n",
      "[CV 4/5] END max_depth=None, min_samples_leaf=2, min_samples_split=8, n_estimators=200;, score=-0.016 total time=   3.8s\n",
      "[CV 5/5] END max_depth=None, min_samples_leaf=2, min_samples_split=8, n_estimators=200;, score=-0.016 total time=   3.8s\n",
      "[CV 1/5] END max_depth=None, min_samples_leaf=2, min_samples_split=8, n_estimators=250;, score=-0.017 total time=   4.8s\n",
      "[CV 2/5] END max_depth=None, min_samples_leaf=2, min_samples_split=8, n_estimators=250;, score=-0.017 total time=   4.7s\n",
      "[CV 3/5] END max_depth=None, min_samples_leaf=2, min_samples_split=8, n_estimators=250;, score=-0.017 total time=   4.8s\n",
      "[CV 4/5] END max_depth=None, min_samples_leaf=2, min_samples_split=8, n_estimators=250;, score=-0.016 total time=   4.7s\n",
      "[CV 5/5] END max_depth=None, min_samples_leaf=2, min_samples_split=8, n_estimators=250;, score=-0.016 total time=   4.7s\n",
      "[CV 1/5] END max_depth=None, min_samples_leaf=2, min_samples_split=8, n_estimators=300;, score=-0.017 total time=   5.7s\n",
      "[CV 2/5] END max_depth=None, min_samples_leaf=2, min_samples_split=8, n_estimators=300;, score=-0.017 total time=   5.7s\n",
      "[CV 3/5] END max_depth=None, min_samples_leaf=2, min_samples_split=8, n_estimators=300;, score=-0.017 total time=   5.7s\n",
      "[CV 4/5] END max_depth=None, min_samples_leaf=2, min_samples_split=8, n_estimators=300;, score=-0.016 total time=   5.7s\n",
      "[CV 5/5] END max_depth=None, min_samples_leaf=2, min_samples_split=8, n_estimators=300;, score=-0.016 total time=   5.7s\n",
      "[CV 1/5] END max_depth=None, min_samples_leaf=2, min_samples_split=8, n_estimators=350;, score=-0.017 total time=   6.7s\n",
      "[CV 2/5] END max_depth=None, min_samples_leaf=2, min_samples_split=8, n_estimators=350;, score=-0.017 total time=   6.7s\n",
      "[CV 3/5] END max_depth=None, min_samples_leaf=2, min_samples_split=8, n_estimators=350;, score=-0.017 total time=   6.7s\n",
      "[CV 4/5] END max_depth=None, min_samples_leaf=2, min_samples_split=8, n_estimators=350;, score=-0.016 total time=   6.7s\n",
      "[CV 5/5] END max_depth=None, min_samples_leaf=2, min_samples_split=8, n_estimators=350;, score=-0.016 total time=   6.6s\n",
      "[CV 1/5] END max_depth=None, min_samples_leaf=2, min_samples_split=8, n_estimators=400;, score=-0.017 total time=   7.7s\n",
      "[CV 2/5] END max_depth=None, min_samples_leaf=2, min_samples_split=8, n_estimators=400;, score=-0.017 total time=   7.7s\n",
      "[CV 3/5] END max_depth=None, min_samples_leaf=2, min_samples_split=8, n_estimators=400;, score=-0.017 total time=   7.7s\n",
      "[CV 4/5] END max_depth=None, min_samples_leaf=2, min_samples_split=8, n_estimators=400;, score=-0.016 total time=   7.7s\n",
      "[CV 5/5] END max_depth=None, min_samples_leaf=2, min_samples_split=8, n_estimators=400;, score=-0.016 total time=   7.6s\n",
      "[CV 1/5] END max_depth=None, min_samples_leaf=2, min_samples_split=8, n_estimators=450;, score=-0.017 total time=   8.7s\n",
      "[CV 2/5] END max_depth=None, min_samples_leaf=2, min_samples_split=8, n_estimators=450;, score=-0.017 total time=   8.7s\n",
      "[CV 3/5] END max_depth=None, min_samples_leaf=2, min_samples_split=8, n_estimators=450;, score=-0.017 total time=   8.7s\n",
      "[CV 4/5] END max_depth=None, min_samples_leaf=2, min_samples_split=8, n_estimators=450;, score=-0.016 total time=   8.7s\n",
      "[CV 5/5] END max_depth=None, min_samples_leaf=2, min_samples_split=8, n_estimators=450;, score=-0.016 total time=   8.6s\n",
      "[CV 1/5] END max_depth=None, min_samples_leaf=2, min_samples_split=8, n_estimators=500;, score=-0.017 total time=   9.7s\n",
      "[CV 2/5] END max_depth=None, min_samples_leaf=2, min_samples_split=8, n_estimators=500;, score=-0.017 total time=   9.6s\n",
      "[CV 3/5] END max_depth=None, min_samples_leaf=2, min_samples_split=8, n_estimators=500;, score=-0.017 total time=   9.7s\n",
      "[CV 4/5] END max_depth=None, min_samples_leaf=2, min_samples_split=8, n_estimators=500;, score=-0.016 total time=   9.6s\n",
      "[CV 5/5] END max_depth=None, min_samples_leaf=2, min_samples_split=8, n_estimators=500;, score=-0.016 total time=   9.5s\n",
      "[CV 1/5] END max_depth=None, min_samples_leaf=2, min_samples_split=10, n_estimators=200;, score=-0.017 total time=   3.8s\n",
      "[CV 2/5] END max_depth=None, min_samples_leaf=2, min_samples_split=10, n_estimators=200;, score=-0.017 total time=   3.8s\n",
      "[CV 3/5] END max_depth=None, min_samples_leaf=2, min_samples_split=10, n_estimators=200;, score=-0.017 total time=   3.8s\n",
      "[CV 4/5] END max_depth=None, min_samples_leaf=2, min_samples_split=10, n_estimators=200;, score=-0.016 total time=   3.8s\n",
      "[CV 5/5] END max_depth=None, min_samples_leaf=2, min_samples_split=10, n_estimators=200;, score=-0.016 total time=   3.7s\n",
      "[CV 1/5] END max_depth=None, min_samples_leaf=2, min_samples_split=10, n_estimators=250;, score=-0.017 total time=   4.8s\n",
      "[CV 2/5] END max_depth=None, min_samples_leaf=2, min_samples_split=10, n_estimators=250;, score=-0.017 total time=   4.7s\n",
      "[CV 3/5] END max_depth=None, min_samples_leaf=2, min_samples_split=10, n_estimators=250;, score=-0.017 total time=   4.7s\n",
      "[CV 4/5] END max_depth=None, min_samples_leaf=2, min_samples_split=10, n_estimators=250;, score=-0.016 total time=   4.7s\n",
      "[CV 5/5] END max_depth=None, min_samples_leaf=2, min_samples_split=10, n_estimators=250;, score=-0.016 total time=   4.7s\n",
      "[CV 1/5] END max_depth=None, min_samples_leaf=2, min_samples_split=10, n_estimators=300;, score=-0.017 total time=   5.7s\n",
      "[CV 2/5] END max_depth=None, min_samples_leaf=2, min_samples_split=10, n_estimators=300;, score=-0.017 total time=   5.7s\n",
      "[CV 3/5] END max_depth=None, min_samples_leaf=2, min_samples_split=10, n_estimators=300;, score=-0.017 total time=   5.7s\n",
      "[CV 4/5] END max_depth=None, min_samples_leaf=2, min_samples_split=10, n_estimators=300;, score=-0.016 total time=   5.7s\n",
      "[CV 5/5] END max_depth=None, min_samples_leaf=2, min_samples_split=10, n_estimators=300;, score=-0.016 total time=   5.6s\n",
      "[CV 1/5] END max_depth=None, min_samples_leaf=2, min_samples_split=10, n_estimators=350;, score=-0.017 total time=   6.7s\n",
      "[CV 2/5] END max_depth=None, min_samples_leaf=2, min_samples_split=10, n_estimators=350;, score=-0.017 total time=   6.6s\n",
      "[CV 3/5] END max_depth=None, min_samples_leaf=2, min_samples_split=10, n_estimators=350;, score=-0.017 total time=   6.6s\n",
      "[CV 4/5] END max_depth=None, min_samples_leaf=2, min_samples_split=10, n_estimators=350;, score=-0.016 total time=   6.6s\n",
      "[CV 5/5] END max_depth=None, min_samples_leaf=2, min_samples_split=10, n_estimators=350;, score=-0.016 total time=   6.6s\n",
      "[CV 1/5] END max_depth=None, min_samples_leaf=2, min_samples_split=10, n_estimators=400;, score=-0.017 total time=   7.6s\n",
      "[CV 2/5] END max_depth=None, min_samples_leaf=2, min_samples_split=10, n_estimators=400;, score=-0.017 total time=   7.6s\n",
      "[CV 3/5] END max_depth=None, min_samples_leaf=2, min_samples_split=10, n_estimators=400;, score=-0.017 total time=   7.6s\n",
      "[CV 4/5] END max_depth=None, min_samples_leaf=2, min_samples_split=10, n_estimators=400;, score=-0.016 total time=   7.6s\n",
      "[CV 5/5] END max_depth=None, min_samples_leaf=2, min_samples_split=10, n_estimators=400;, score=-0.016 total time=   7.5s\n",
      "[CV 1/5] END max_depth=None, min_samples_leaf=2, min_samples_split=10, n_estimators=450;, score=-0.017 total time=   8.6s\n",
      "[CV 2/5] END max_depth=None, min_samples_leaf=2, min_samples_split=10, n_estimators=450;, score=-0.017 total time=   8.5s\n",
      "[CV 3/5] END max_depth=None, min_samples_leaf=2, min_samples_split=10, n_estimators=450;, score=-0.017 total time=   8.6s\n",
      "[CV 4/5] END max_depth=None, min_samples_leaf=2, min_samples_split=10, n_estimators=450;, score=-0.016 total time=   8.5s\n",
      "[CV 5/5] END max_depth=None, min_samples_leaf=2, min_samples_split=10, n_estimators=450;, score=-0.016 total time=   8.4s\n",
      "[CV 1/5] END max_depth=None, min_samples_leaf=2, min_samples_split=10, n_estimators=500;, score=-0.017 total time=   9.5s\n",
      "[CV 2/5] END max_depth=None, min_samples_leaf=2, min_samples_split=10, n_estimators=500;, score=-0.017 total time=   9.5s\n",
      "[CV 3/5] END max_depth=None, min_samples_leaf=2, min_samples_split=10, n_estimators=500;, score=-0.017 total time=   9.5s\n",
      "[CV 4/5] END max_depth=None, min_samples_leaf=2, min_samples_split=10, n_estimators=500;, score=-0.016 total time=   9.4s\n",
      "[CV 5/5] END max_depth=None, min_samples_leaf=2, min_samples_split=10, n_estimators=500;, score=-0.016 total time=   9.4s\n",
      "[CV 1/5] END max_depth=None, min_samples_leaf=2, min_samples_split=20, n_estimators=200;, score=-0.016 total time=   3.6s\n",
      "[CV 2/5] END max_depth=None, min_samples_leaf=2, min_samples_split=20, n_estimators=200;, score=-0.017 total time=   3.5s\n",
      "[CV 3/5] END max_depth=None, min_samples_leaf=2, min_samples_split=20, n_estimators=200;, score=-0.017 total time=   3.6s\n",
      "[CV 4/5] END max_depth=None, min_samples_leaf=2, min_samples_split=20, n_estimators=200;, score=-0.016 total time=   3.5s\n",
      "[CV 5/5] END max_depth=None, min_samples_leaf=2, min_samples_split=20, n_estimators=200;, score=-0.016 total time=   3.5s\n",
      "[CV 1/5] END max_depth=None, min_samples_leaf=2, min_samples_split=20, n_estimators=250;, score=-0.016 total time=   4.5s\n",
      "[CV 2/5] END max_depth=None, min_samples_leaf=2, min_samples_split=20, n_estimators=250;, score=-0.017 total time=   4.4s\n",
      "[CV 3/5] END max_depth=None, min_samples_leaf=2, min_samples_split=20, n_estimators=250;, score=-0.017 total time=   4.4s\n",
      "[CV 4/5] END max_depth=None, min_samples_leaf=2, min_samples_split=20, n_estimators=250;, score=-0.016 total time=   4.5s\n",
      "[CV 5/5] END max_depth=None, min_samples_leaf=2, min_samples_split=20, n_estimators=250;, score=-0.016 total time=   4.4s\n",
      "[CV 1/5] END max_depth=None, min_samples_leaf=2, min_samples_split=20, n_estimators=300;, score=-0.017 total time=   5.4s\n",
      "[CV 2/5] END max_depth=None, min_samples_leaf=2, min_samples_split=20, n_estimators=300;, score=-0.017 total time=   5.3s\n",
      "[CV 3/5] END max_depth=None, min_samples_leaf=2, min_samples_split=20, n_estimators=300;, score=-0.017 total time=   5.3s\n",
      "[CV 4/5] END max_depth=None, min_samples_leaf=2, min_samples_split=20, n_estimators=300;, score=-0.016 total time=   5.3s\n",
      "[CV 5/5] END max_depth=None, min_samples_leaf=2, min_samples_split=20, n_estimators=300;, score=-0.016 total time=   5.3s\n",
      "[CV 1/5] END max_depth=None, min_samples_leaf=2, min_samples_split=20, n_estimators=350;, score=-0.016 total time=   6.2s\n",
      "[CV 2/5] END max_depth=None, min_samples_leaf=2, min_samples_split=20, n_estimators=350;, score=-0.017 total time=   6.2s\n",
      "[CV 3/5] END max_depth=None, min_samples_leaf=2, min_samples_split=20, n_estimators=350;, score=-0.017 total time=   6.2s\n",
      "[CV 4/5] END max_depth=None, min_samples_leaf=2, min_samples_split=20, n_estimators=350;, score=-0.016 total time=   6.2s\n",
      "[CV 5/5] END max_depth=None, min_samples_leaf=2, min_samples_split=20, n_estimators=350;, score=-0.016 total time=   6.1s\n",
      "[CV 1/5] END max_depth=None, min_samples_leaf=2, min_samples_split=20, n_estimators=400;, score=-0.016 total time=   7.1s\n",
      "[CV 2/5] END max_depth=None, min_samples_leaf=2, min_samples_split=20, n_estimators=400;, score=-0.017 total time=   7.1s\n",
      "[CV 3/5] END max_depth=None, min_samples_leaf=2, min_samples_split=20, n_estimators=400;, score=-0.017 total time=   7.1s\n",
      "[CV 4/5] END max_depth=None, min_samples_leaf=2, min_samples_split=20, n_estimators=400;, score=-0.016 total time=   7.1s\n",
      "[CV 5/5] END max_depth=None, min_samples_leaf=2, min_samples_split=20, n_estimators=400;, score=-0.016 total time=   7.0s\n",
      "[CV 1/5] END max_depth=None, min_samples_leaf=2, min_samples_split=20, n_estimators=450;, score=-0.016 total time=   8.1s\n",
      "[CV 2/5] END max_depth=None, min_samples_leaf=2, min_samples_split=20, n_estimators=450;, score=-0.017 total time= 6.5min\n",
      "[CV 3/5] END max_depth=None, min_samples_leaf=2, min_samples_split=20, n_estimators=450;, score=-0.017 total time=   7.8s\n",
      "[CV 4/5] END max_depth=None, min_samples_leaf=2, min_samples_split=20, n_estimators=450;, score=-0.016 total time=   7.8s\n",
      "[CV 5/5] END max_depth=None, min_samples_leaf=2, min_samples_split=20, n_estimators=450;, score=-0.016 total time=   7.7s\n",
      "[CV 1/5] END max_depth=None, min_samples_leaf=2, min_samples_split=20, n_estimators=500;, score=-0.016 total time=   8.7s\n",
      "[CV 2/5] END max_depth=None, min_samples_leaf=2, min_samples_split=20, n_estimators=500;, score=-0.017 total time=  11.1s\n",
      "[CV 3/5] END max_depth=None, min_samples_leaf=2, min_samples_split=20, n_estimators=500;, score=-0.017 total time=   8.8s\n",
      "[CV 4/5] END max_depth=None, min_samples_leaf=2, min_samples_split=20, n_estimators=500;, score=-0.016 total time=   8.7s\n",
      "[CV 5/5] END max_depth=None, min_samples_leaf=2, min_samples_split=20, n_estimators=500;, score=-0.016 total time=   8.6s\n",
      "[CV 1/5] END max_depth=None, min_samples_leaf=5, min_samples_split=2, n_estimators=200;, score=-0.016 total time=   3.5s\n",
      "[CV 2/5] END max_depth=None, min_samples_leaf=5, min_samples_split=2, n_estimators=200;, score=-0.017 total time=   3.5s\n",
      "[CV 3/5] END max_depth=None, min_samples_leaf=5, min_samples_split=2, n_estimators=200;, score=-0.017 total time=   3.5s\n",
      "[CV 4/5] END max_depth=None, min_samples_leaf=5, min_samples_split=2, n_estimators=200;, score=-0.016 total time=   3.5s\n",
      "[CV 5/5] END max_depth=None, min_samples_leaf=5, min_samples_split=2, n_estimators=200;, score=-0.016 total time=   3.4s\n",
      "[CV 1/5] END max_depth=None, min_samples_leaf=5, min_samples_split=2, n_estimators=250;, score=-0.016 total time=   4.4s\n",
      "[CV 2/5] END max_depth=None, min_samples_leaf=5, min_samples_split=2, n_estimators=250;, score=-0.017 total time=   4.4s\n",
      "[CV 3/5] END max_depth=None, min_samples_leaf=5, min_samples_split=2, n_estimators=250;, score=-0.017 total time=   4.4s\n",
      "[CV 4/5] END max_depth=None, min_samples_leaf=5, min_samples_split=2, n_estimators=250;, score=-0.016 total time=   4.4s\n",
      "[CV 5/5] END max_depth=None, min_samples_leaf=5, min_samples_split=2, n_estimators=250;, score=-0.016 total time=   4.3s\n",
      "[CV 1/5] END max_depth=None, min_samples_leaf=5, min_samples_split=2, n_estimators=300;, score=-0.017 total time=   5.3s\n",
      "[CV 2/5] END max_depth=None, min_samples_leaf=5, min_samples_split=2, n_estimators=300;, score=-0.017 total time=   5.2s\n",
      "[CV 3/5] END max_depth=None, min_samples_leaf=5, min_samples_split=2, n_estimators=300;, score=-0.017 total time=   5.3s\n",
      "[CV 4/5] END max_depth=None, min_samples_leaf=5, min_samples_split=2, n_estimators=300;, score=-0.016 total time=   5.3s\n",
      "[CV 5/5] END max_depth=None, min_samples_leaf=5, min_samples_split=2, n_estimators=300;, score=-0.016 total time=   5.2s\n",
      "[CV 1/5] END max_depth=None, min_samples_leaf=5, min_samples_split=2, n_estimators=350;, score=-0.016 total time=   6.2s\n",
      "[CV 2/5] END max_depth=None, min_samples_leaf=5, min_samples_split=2, n_estimators=350;, score=-0.017 total time=   6.1s\n",
      "[CV 3/5] END max_depth=None, min_samples_leaf=5, min_samples_split=2, n_estimators=350;, score=-0.017 total time=   6.2s\n",
      "[CV 4/5] END max_depth=None, min_samples_leaf=5, min_samples_split=2, n_estimators=350;, score=-0.016 total time=   6.2s\n",
      "[CV 5/5] END max_depth=None, min_samples_leaf=5, min_samples_split=2, n_estimators=350;, score=-0.016 total time=   6.1s\n",
      "[CV 1/5] END max_depth=None, min_samples_leaf=5, min_samples_split=2, n_estimators=400;, score=-0.016 total time=   7.1s\n",
      "[CV 2/5] END max_depth=None, min_samples_leaf=5, min_samples_split=2, n_estimators=400;, score=-0.017 total time=   7.0s\n",
      "[CV 3/5] END max_depth=None, min_samples_leaf=5, min_samples_split=2, n_estimators=400;, score=-0.017 total time=   7.1s\n",
      "[CV 4/5] END max_depth=None, min_samples_leaf=5, min_samples_split=2, n_estimators=400;, score=-0.016 total time=   7.0s\n",
      "[CV 5/5] END max_depth=None, min_samples_leaf=5, min_samples_split=2, n_estimators=400;, score=-0.016 total time=   7.0s\n",
      "[CV 1/5] END max_depth=None, min_samples_leaf=5, min_samples_split=2, n_estimators=450;, score=-0.016 total time=   8.0s\n",
      "[CV 2/5] END max_depth=None, min_samples_leaf=5, min_samples_split=2, n_estimators=450;, score=-0.017 total time=   7.9s\n",
      "[CV 3/5] END max_depth=None, min_samples_leaf=5, min_samples_split=2, n_estimators=450;, score=-0.017 total time=   7.9s\n",
      "[CV 4/5] END max_depth=None, min_samples_leaf=5, min_samples_split=2, n_estimators=450;, score=-0.016 total time=   7.9s\n",
      "[CV 5/5] END max_depth=None, min_samples_leaf=5, min_samples_split=2, n_estimators=450;, score=-0.016 total time=   7.9s\n",
      "[CV 1/5] END max_depth=None, min_samples_leaf=5, min_samples_split=2, n_estimators=500;, score=-0.016 total time=   8.8s\n",
      "[CV 2/5] END max_depth=None, min_samples_leaf=5, min_samples_split=2, n_estimators=500;, score=-0.017 total time=   8.8s\n",
      "[CV 3/5] END max_depth=None, min_samples_leaf=5, min_samples_split=2, n_estimators=500;, score=-0.017 total time=   8.8s\n",
      "[CV 4/5] END max_depth=None, min_samples_leaf=5, min_samples_split=2, n_estimators=500;, score=-0.016 total time=   8.8s\n",
      "[CV 5/5] END max_depth=None, min_samples_leaf=5, min_samples_split=2, n_estimators=500;, score=-0.016 total time=   8.7s\n",
      "[CV 1/5] END max_depth=None, min_samples_leaf=5, min_samples_split=4, n_estimators=200;, score=-0.016 total time=   3.6s\n",
      "[CV 2/5] END max_depth=None, min_samples_leaf=5, min_samples_split=4, n_estimators=200;, score=-0.017 total time=   3.5s\n",
      "[CV 3/5] END max_depth=None, min_samples_leaf=5, min_samples_split=4, n_estimators=200;, score=-0.017 total time=   3.5s\n",
      "[CV 4/5] END max_depth=None, min_samples_leaf=5, min_samples_split=4, n_estimators=200;, score=-0.016 total time=   3.5s\n",
      "[CV 5/5] END max_depth=None, min_samples_leaf=5, min_samples_split=4, n_estimators=200;, score=-0.016 total time=   3.5s\n",
      "[CV 1/5] END max_depth=None, min_samples_leaf=5, min_samples_split=4, n_estimators=250;, score=-0.016 total time=   4.4s\n",
      "[CV 2/5] END max_depth=None, min_samples_leaf=5, min_samples_split=4, n_estimators=250;, score=-0.017 total time=   4.4s\n",
      "[CV 3/5] END max_depth=None, min_samples_leaf=5, min_samples_split=4, n_estimators=250;, score=-0.017 total time=   4.4s\n",
      "[CV 4/5] END max_depth=None, min_samples_leaf=5, min_samples_split=4, n_estimators=250;, score=-0.016 total time=   4.4s\n",
      "[CV 5/5] END max_depth=None, min_samples_leaf=5, min_samples_split=4, n_estimators=250;, score=-0.016 total time=   4.4s\n",
      "[CV 1/5] END max_depth=None, min_samples_leaf=5, min_samples_split=4, n_estimators=300;, score=-0.017 total time=   5.3s\n",
      "[CV 2/5] END max_depth=None, min_samples_leaf=5, min_samples_split=4, n_estimators=300;, score=-0.017 total time=   5.3s\n",
      "[CV 3/5] END max_depth=None, min_samples_leaf=5, min_samples_split=4, n_estimators=300;, score=-0.017 total time=   5.3s\n",
      "[CV 4/5] END max_depth=None, min_samples_leaf=5, min_samples_split=4, n_estimators=300;, score=-0.016 total time=   5.3s\n",
      "[CV 5/5] END max_depth=None, min_samples_leaf=5, min_samples_split=4, n_estimators=300;, score=-0.016 total time=   5.2s\n",
      "[CV 1/5] END max_depth=None, min_samples_leaf=5, min_samples_split=4, n_estimators=350;, score=-0.016 total time=   6.2s\n",
      "[CV 2/5] END max_depth=None, min_samples_leaf=5, min_samples_split=4, n_estimators=350;, score=-0.017 total time=   6.2s\n",
      "[CV 3/5] END max_depth=None, min_samples_leaf=5, min_samples_split=4, n_estimators=350;, score=-0.017 total time=   6.2s\n",
      "[CV 4/5] END max_depth=None, min_samples_leaf=5, min_samples_split=4, n_estimators=350;, score=-0.016 total time=   6.2s\n",
      "[CV 5/5] END max_depth=None, min_samples_leaf=5, min_samples_split=4, n_estimators=350;, score=-0.016 total time=   6.1s\n",
      "[CV 1/5] END max_depth=None, min_samples_leaf=5, min_samples_split=4, n_estimators=400;, score=-0.016 total time=   7.1s\n",
      "[CV 2/5] END max_depth=None, min_samples_leaf=5, min_samples_split=4, n_estimators=400;, score=-0.017 total time=   7.0s\n",
      "[CV 3/5] END max_depth=None, min_samples_leaf=5, min_samples_split=4, n_estimators=400;, score=-0.017 total time=   7.1s\n",
      "[CV 4/5] END max_depth=None, min_samples_leaf=5, min_samples_split=4, n_estimators=400;, score=-0.016 total time=   7.0s\n",
      "[CV 5/5] END max_depth=None, min_samples_leaf=5, min_samples_split=4, n_estimators=400;, score=-0.016 total time=   7.0s\n",
      "[CV 1/5] END max_depth=None, min_samples_leaf=5, min_samples_split=4, n_estimators=450;, score=-0.016 total time=   8.0s\n",
      "[CV 2/5] END max_depth=None, min_samples_leaf=5, min_samples_split=4, n_estimators=450;, score=-0.017 total time=   8.0s\n",
      "[CV 3/5] END max_depth=None, min_samples_leaf=5, min_samples_split=4, n_estimators=450;, score=-0.017 total time=   8.0s\n",
      "[CV 4/5] END max_depth=None, min_samples_leaf=5, min_samples_split=4, n_estimators=450;, score=-0.016 total time=   7.9s\n",
      "[CV 5/5] END max_depth=None, min_samples_leaf=5, min_samples_split=4, n_estimators=450;, score=-0.016 total time=   7.8s\n",
      "[CV 1/5] END max_depth=None, min_samples_leaf=5, min_samples_split=4, n_estimators=500;, score=-0.016 total time=   8.8s\n",
      "[CV 2/5] END max_depth=None, min_samples_leaf=5, min_samples_split=4, n_estimators=500;, score=-0.017 total time=   8.8s\n",
      "[CV 3/5] END max_depth=None, min_samples_leaf=5, min_samples_split=4, n_estimators=500;, score=-0.017 total time=   8.9s\n",
      "[CV 4/5] END max_depth=None, min_samples_leaf=5, min_samples_split=4, n_estimators=500;, score=-0.016 total time=   8.8s\n",
      "[CV 5/5] END max_depth=None, min_samples_leaf=5, min_samples_split=4, n_estimators=500;, score=-0.016 total time=   8.7s\n",
      "[CV 1/5] END max_depth=None, min_samples_leaf=5, min_samples_split=8, n_estimators=200;, score=-0.016 total time=   3.5s\n",
      "[CV 2/5] END max_depth=None, min_samples_leaf=5, min_samples_split=8, n_estimators=200;, score=-0.017 total time=   3.5s\n",
      "[CV 3/5] END max_depth=None, min_samples_leaf=5, min_samples_split=8, n_estimators=200;, score=-0.017 total time=   3.5s\n",
      "[CV 4/5] END max_depth=None, min_samples_leaf=5, min_samples_split=8, n_estimators=200;, score=-0.016 total time=   3.5s\n",
      "[CV 5/5] END max_depth=None, min_samples_leaf=5, min_samples_split=8, n_estimators=200;, score=-0.016 total time=   3.5s\n",
      "[CV 1/5] END max_depth=None, min_samples_leaf=5, min_samples_split=8, n_estimators=250;, score=-0.016 total time=   4.4s\n",
      "[CV 2/5] END max_depth=None, min_samples_leaf=5, min_samples_split=8, n_estimators=250;, score=-0.017 total time=   4.4s\n",
      "[CV 3/5] END max_depth=None, min_samples_leaf=5, min_samples_split=8, n_estimators=250;, score=-0.017 total time=   4.4s\n",
      "[CV 4/5] END max_depth=None, min_samples_leaf=5, min_samples_split=8, n_estimators=250;, score=-0.016 total time=   4.4s\n",
      "[CV 5/5] END max_depth=None, min_samples_leaf=5, min_samples_split=8, n_estimators=250;, score=-0.016 total time=   4.4s\n",
      "[CV 1/5] END max_depth=None, min_samples_leaf=5, min_samples_split=8, n_estimators=300;, score=-0.016 total time=   5.3s\n",
      "[CV 2/5] END max_depth=None, min_samples_leaf=5, min_samples_split=8, n_estimators=300;, score=-0.017 total time=   5.3s\n",
      "[CV 3/5] END max_depth=None, min_samples_leaf=5, min_samples_split=8, n_estimators=300;, score=-0.017 total time=   5.3s\n",
      "[CV 4/5] END max_depth=None, min_samples_leaf=5, min_samples_split=8, n_estimators=300;, score=-0.016 total time=   5.3s\n",
      "[CV 5/5] END max_depth=None, min_samples_leaf=5, min_samples_split=8, n_estimators=300;, score=-0.016 total time=   5.2s\n",
      "[CV 1/5] END max_depth=None, min_samples_leaf=5, min_samples_split=8, n_estimators=350;, score=-0.016 total time=   6.2s\n",
      "[CV 2/5] END max_depth=None, min_samples_leaf=5, min_samples_split=8, n_estimators=350;, score=-0.017 total time=   6.1s\n",
      "[CV 3/5] END max_depth=None, min_samples_leaf=5, min_samples_split=8, n_estimators=350;, score=-0.017 total time=   6.2s\n",
      "[CV 4/5] END max_depth=None, min_samples_leaf=5, min_samples_split=8, n_estimators=350;, score=-0.016 total time=   6.1s\n",
      "[CV 5/5] END max_depth=None, min_samples_leaf=5, min_samples_split=8, n_estimators=350;, score=-0.016 total time=   6.1s\n",
      "[CV 1/5] END max_depth=None, min_samples_leaf=5, min_samples_split=8, n_estimators=400;, score=-0.016 total time=   7.1s\n",
      "[CV 2/5] END max_depth=None, min_samples_leaf=5, min_samples_split=8, n_estimators=400;, score=-0.017 total time=   7.0s\n",
      "[CV 3/5] END max_depth=None, min_samples_leaf=5, min_samples_split=8, n_estimators=400;, score=-0.017 total time=   7.1s\n",
      "[CV 4/5] END max_depth=None, min_samples_leaf=5, min_samples_split=8, n_estimators=400;, score=-0.016 total time=   7.0s\n",
      "[CV 5/5] END max_depth=None, min_samples_leaf=5, min_samples_split=8, n_estimators=400;, score=-0.016 total time=   7.0s\n",
      "[CV 1/5] END max_depth=None, min_samples_leaf=5, min_samples_split=8, n_estimators=450;, score=-0.016 total time=   8.0s\n",
      "[CV 2/5] END max_depth=None, min_samples_leaf=5, min_samples_split=8, n_estimators=450;, score=-0.017 total time=   7.9s\n",
      "[CV 3/5] END max_depth=None, min_samples_leaf=5, min_samples_split=8, n_estimators=450;, score=-0.017 total time=   8.0s\n",
      "[CV 4/5] END max_depth=None, min_samples_leaf=5, min_samples_split=8, n_estimators=450;, score=-0.016 total time=   8.0s\n",
      "[CV 5/5] END max_depth=None, min_samples_leaf=5, min_samples_split=8, n_estimators=450;, score=-0.016 total time= 3.5min\n",
      "[CV 1/5] END max_depth=None, min_samples_leaf=5, min_samples_split=8, n_estimators=500;, score=-0.016 total time=   8.7s\n",
      "[CV 2/5] END max_depth=None, min_samples_leaf=5, min_samples_split=8, n_estimators=500;, score=-0.017 total time=   8.6s\n",
      "[CV 3/5] END max_depth=None, min_samples_leaf=5, min_samples_split=8, n_estimators=500;, score=-0.017 total time=   8.7s\n",
      "[CV 4/5] END max_depth=None, min_samples_leaf=5, min_samples_split=8, n_estimators=500;, score=-0.016 total time=   8.6s\n",
      "[CV 5/5] END max_depth=None, min_samples_leaf=5, min_samples_split=8, n_estimators=500;, score=-0.016 total time=   8.6s\n",
      "[CV 1/5] END max_depth=None, min_samples_leaf=5, min_samples_split=10, n_estimators=200;, score=-0.017 total time=   3.5s\n",
      "[CV 2/5] END max_depth=None, min_samples_leaf=5, min_samples_split=10, n_estimators=200;, score=-0.017 total time=   3.5s\n",
      "[CV 3/5] END max_depth=None, min_samples_leaf=5, min_samples_split=10, n_estimators=200;, score=-0.017 total time=   3.5s\n",
      "[CV 4/5] END max_depth=None, min_samples_leaf=5, min_samples_split=10, n_estimators=200;, score=-0.016 total time=   3.5s\n",
      "[CV 5/5] END max_depth=None, min_samples_leaf=5, min_samples_split=10, n_estimators=200;, score=-0.016 total time=   3.4s\n",
      "[CV 1/5] END max_depth=None, min_samples_leaf=5, min_samples_split=10, n_estimators=250;, score=-0.016 total time=   4.4s\n",
      "[CV 2/5] END max_depth=None, min_samples_leaf=5, min_samples_split=10, n_estimators=250;, score=-0.017 total time=   4.3s\n",
      "[CV 3/5] END max_depth=None, min_samples_leaf=5, min_samples_split=10, n_estimators=250;, score=-0.017 total time=   4.4s\n",
      "[CV 4/5] END max_depth=None, min_samples_leaf=5, min_samples_split=10, n_estimators=250;, score=-0.016 total time=   4.4s\n",
      "[CV 5/5] END max_depth=None, min_samples_leaf=5, min_samples_split=10, n_estimators=250;, score=-0.016 total time=   4.3s\n",
      "[CV 1/5] END max_depth=None, min_samples_leaf=5, min_samples_split=10, n_estimators=300;, score=-0.016 total time=   5.3s\n",
      "[CV 2/5] END max_depth=None, min_samples_leaf=5, min_samples_split=10, n_estimators=300;, score=-0.017 total time=   5.2s\n",
      "[CV 3/5] END max_depth=None, min_samples_leaf=5, min_samples_split=10, n_estimators=300;, score=-0.017 total time=   5.3s\n",
      "[CV 4/5] END max_depth=None, min_samples_leaf=5, min_samples_split=10, n_estimators=300;, score=-0.016 total time=   5.2s\n",
      "[CV 5/5] END max_depth=None, min_samples_leaf=5, min_samples_split=10, n_estimators=300;, score=-0.016 total time=   5.2s\n",
      "[CV 1/5] END max_depth=None, min_samples_leaf=5, min_samples_split=10, n_estimators=350;, score=-0.016 total time=   6.2s\n",
      "[CV 2/5] END max_depth=None, min_samples_leaf=5, min_samples_split=10, n_estimators=350;, score=-0.017 total time=   6.1s\n",
      "[CV 3/5] END max_depth=None, min_samples_leaf=5, min_samples_split=10, n_estimators=350;, score=-0.017 total time=   6.2s\n",
      "[CV 4/5] END max_depth=None, min_samples_leaf=5, min_samples_split=10, n_estimators=350;, score=-0.016 total time=   6.1s\n",
      "[CV 5/5] END max_depth=None, min_samples_leaf=5, min_samples_split=10, n_estimators=350;, score=-0.016 total time=   6.1s\n",
      "[CV 1/5] END max_depth=None, min_samples_leaf=5, min_samples_split=10, n_estimators=400;, score=-0.016 total time=   7.1s\n",
      "[CV 2/5] END max_depth=None, min_samples_leaf=5, min_samples_split=10, n_estimators=400;, score=-0.017 total time=   7.0s\n",
      "[CV 3/5] END max_depth=None, min_samples_leaf=5, min_samples_split=10, n_estimators=400;, score=-0.017 total time=   7.0s\n",
      "[CV 4/5] END max_depth=None, min_samples_leaf=5, min_samples_split=10, n_estimators=400;, score=-0.016 total time=   7.0s\n",
      "[CV 5/5] END max_depth=None, min_samples_leaf=5, min_samples_split=10, n_estimators=400;, score=-0.016 total time=   6.9s\n",
      "[CV 1/5] END max_depth=None, min_samples_leaf=5, min_samples_split=10, n_estimators=450;, score=-0.016 total time=   7.9s\n",
      "[CV 2/5] END max_depth=None, min_samples_leaf=5, min_samples_split=10, n_estimators=450;, score=-0.017 total time=   7.9s\n",
      "[CV 3/5] END max_depth=None, min_samples_leaf=5, min_samples_split=10, n_estimators=450;, score=-0.017 total time=   7.9s\n",
      "[CV 4/5] END max_depth=None, min_samples_leaf=5, min_samples_split=10, n_estimators=450;, score=-0.016 total time=   7.9s\n",
      "[CV 5/5] END max_depth=None, min_samples_leaf=5, min_samples_split=10, n_estimators=450;, score=-0.016 total time=   7.8s\n",
      "[CV 1/5] END max_depth=None, min_samples_leaf=5, min_samples_split=10, n_estimators=500;, score=-0.016 total time=   8.8s\n",
      "[CV 2/5] END max_depth=None, min_samples_leaf=5, min_samples_split=10, n_estimators=500;, score=-0.017 total time=   8.8s\n",
      "[CV 3/5] END max_depth=None, min_samples_leaf=5, min_samples_split=10, n_estimators=500;, score=-0.017 total time=   8.8s\n",
      "[CV 4/5] END max_depth=None, min_samples_leaf=5, min_samples_split=10, n_estimators=500;, score=-0.016 total time=   8.8s\n",
      "[CV 5/5] END max_depth=None, min_samples_leaf=5, min_samples_split=10, n_estimators=500;, score=-0.016 total time=   8.7s\n",
      "[CV 1/5] END max_depth=None, min_samples_leaf=5, min_samples_split=20, n_estimators=200;, score=-0.016 total time=   3.4s\n",
      "[CV 2/5] END max_depth=None, min_samples_leaf=5, min_samples_split=20, n_estimators=200;, score=-0.017 total time=   3.3s\n",
      "[CV 3/5] END max_depth=None, min_samples_leaf=5, min_samples_split=20, n_estimators=200;, score=-0.017 total time=   3.3s\n",
      "[CV 4/5] END max_depth=None, min_samples_leaf=5, min_samples_split=20, n_estimators=200;, score=-0.016 total time=   3.3s\n",
      "[CV 5/5] END max_depth=None, min_samples_leaf=5, min_samples_split=20, n_estimators=200;, score=-0.016 total time=   3.3s\n",
      "[CV 1/5] END max_depth=None, min_samples_leaf=5, min_samples_split=20, n_estimators=250;, score=-0.016 total time=   4.2s\n",
      "[CV 2/5] END max_depth=None, min_samples_leaf=5, min_samples_split=20, n_estimators=250;, score=-0.017 total time=   4.2s\n",
      "[CV 3/5] END max_depth=None, min_samples_leaf=5, min_samples_split=20, n_estimators=250;, score=-0.017 total time=   4.2s\n",
      "[CV 4/5] END max_depth=None, min_samples_leaf=5, min_samples_split=20, n_estimators=250;, score=-0.016 total time=   4.2s\n",
      "[CV 5/5] END max_depth=None, min_samples_leaf=5, min_samples_split=20, n_estimators=250;, score=-0.016 total time=   4.1s\n",
      "[CV 1/5] END max_depth=None, min_samples_leaf=5, min_samples_split=20, n_estimators=300;, score=-0.016 total time=   5.0s\n",
      "[CV 2/5] END max_depth=None, min_samples_leaf=5, min_samples_split=20, n_estimators=300;, score=-0.017 total time=   5.0s\n",
      "[CV 3/5] END max_depth=None, min_samples_leaf=5, min_samples_split=20, n_estimators=300;, score=-0.017 total time=   5.0s\n",
      "[CV 4/5] END max_depth=None, min_samples_leaf=5, min_samples_split=20, n_estimators=300;, score=-0.016 total time=   5.0s\n",
      "[CV 5/5] END max_depth=None, min_samples_leaf=5, min_samples_split=20, n_estimators=300;, score=-0.016 total time=   5.0s\n",
      "[CV 1/5] END max_depth=None, min_samples_leaf=5, min_samples_split=20, n_estimators=350;, score=-0.016 total time=   5.9s\n",
      "[CV 2/5] END max_depth=None, min_samples_leaf=5, min_samples_split=20, n_estimators=350;, score=-0.017 total time=   5.8s\n",
      "[CV 3/5] END max_depth=None, min_samples_leaf=5, min_samples_split=20, n_estimators=350;, score=-0.017 total time=   5.9s\n",
      "[CV 4/5] END max_depth=None, min_samples_leaf=5, min_samples_split=20, n_estimators=350;, score=-0.016 total time=   5.8s\n",
      "[CV 5/5] END max_depth=None, min_samples_leaf=5, min_samples_split=20, n_estimators=350;, score=-0.016 total time=   5.8s\n",
      "[CV 1/5] END max_depth=None, min_samples_leaf=5, min_samples_split=20, n_estimators=400;, score=-0.016 total time=   6.7s\n",
      "[CV 2/5] END max_depth=None, min_samples_leaf=5, min_samples_split=20, n_estimators=400;, score=-0.017 total time=   6.7s\n",
      "[CV 3/5] END max_depth=None, min_samples_leaf=5, min_samples_split=20, n_estimators=400;, score=-0.017 total time=   6.7s\n",
      "[CV 4/5] END max_depth=None, min_samples_leaf=5, min_samples_split=20, n_estimators=400;, score=-0.016 total time=   6.7s\n",
      "[CV 5/5] END max_depth=None, min_samples_leaf=5, min_samples_split=20, n_estimators=400;, score=-0.016 total time=   6.6s\n",
      "[CV 1/5] END max_depth=None, min_samples_leaf=5, min_samples_split=20, n_estimators=450;, score=-0.016 total time=   7.5s\n",
      "[CV 2/5] END max_depth=None, min_samples_leaf=5, min_samples_split=20, n_estimators=450;, score=-0.017 total time=   7.5s\n",
      "[CV 3/5] END max_depth=None, min_samples_leaf=5, min_samples_split=20, n_estimators=450;, score=-0.017 total time=   7.5s\n",
      "[CV 4/5] END max_depth=None, min_samples_leaf=5, min_samples_split=20, n_estimators=450;, score=-0.016 total time=   7.5s\n",
      "[CV 5/5] END max_depth=None, min_samples_leaf=5, min_samples_split=20, n_estimators=450;, score=-0.016 total time=   7.4s\n",
      "[CV 1/5] END max_depth=None, min_samples_leaf=5, min_samples_split=20, n_estimators=500;, score=-0.016 total time=   8.4s\n",
      "[CV 2/5] END max_depth=None, min_samples_leaf=5, min_samples_split=20, n_estimators=500;, score=-0.017 total time=   8.3s\n",
      "[CV 3/5] END max_depth=None, min_samples_leaf=5, min_samples_split=20, n_estimators=500;, score=-0.017 total time=   8.4s\n",
      "[CV 4/5] END max_depth=None, min_samples_leaf=5, min_samples_split=20, n_estimators=500;, score=-0.016 total time=   8.3s\n",
      "[CV 5/5] END max_depth=None, min_samples_leaf=5, min_samples_split=20, n_estimators=500;, score=-0.016 total time=   8.3s\n",
      "[CV 1/5] END max_depth=None, min_samples_leaf=10, min_samples_split=2, n_estimators=200;, score=-0.016 total time=   3.2s\n",
      "[CV 2/5] END max_depth=None, min_samples_leaf=10, min_samples_split=2, n_estimators=200;, score=-0.017 total time=   3.1s\n",
      "[CV 3/5] END max_depth=None, min_samples_leaf=10, min_samples_split=2, n_estimators=200;, score=-0.017 total time=   3.2s\n",
      "[CV 4/5] END max_depth=None, min_samples_leaf=10, min_samples_split=2, n_estimators=200;, score=-0.016 total time=   3.2s\n",
      "[CV 5/5] END max_depth=None, min_samples_leaf=10, min_samples_split=2, n_estimators=200;, score=-0.016 total time=   3.1s\n",
      "[CV 1/5] END max_depth=None, min_samples_leaf=10, min_samples_split=2, n_estimators=250;, score=-0.016 total time=   4.0s\n",
      "[CV 2/5] END max_depth=None, min_samples_leaf=10, min_samples_split=2, n_estimators=250;, score=-0.017 total time=   3.9s\n",
      "[CV 3/5] END max_depth=None, min_samples_leaf=10, min_samples_split=2, n_estimators=250;, score=-0.017 total time=   4.0s\n",
      "[CV 4/5] END max_depth=None, min_samples_leaf=10, min_samples_split=2, n_estimators=250;, score=-0.016 total time=   3.9s\n",
      "[CV 5/5] END max_depth=None, min_samples_leaf=10, min_samples_split=2, n_estimators=250;, score=-0.016 total time=   3.9s\n",
      "[CV 1/5] END max_depth=None, min_samples_leaf=10, min_samples_split=2, n_estimators=300;, score=-0.016 total time=   4.8s\n",
      "[CV 2/5] END max_depth=None, min_samples_leaf=10, min_samples_split=2, n_estimators=300;, score=-0.017 total time=   4.7s\n",
      "[CV 3/5] END max_depth=None, min_samples_leaf=10, min_samples_split=2, n_estimators=300;, score=-0.017 total time=   4.7s\n",
      "[CV 4/5] END max_depth=None, min_samples_leaf=10, min_samples_split=2, n_estimators=300;, score=-0.016 total time=   4.7s\n",
      "[CV 5/5] END max_depth=None, min_samples_leaf=10, min_samples_split=2, n_estimators=300;, score=-0.016 total time=   4.7s\n",
      "[CV 1/5] END max_depth=None, min_samples_leaf=10, min_samples_split=2, n_estimators=350;, score=-0.016 total time=   5.6s\n",
      "[CV 2/5] END max_depth=None, min_samples_leaf=10, min_samples_split=2, n_estimators=350;, score=-0.017 total time=   5.5s\n",
      "[CV 3/5] END max_depth=None, min_samples_leaf=10, min_samples_split=2, n_estimators=350;, score=-0.017 total time=   5.5s\n",
      "[CV 4/5] END max_depth=None, min_samples_leaf=10, min_samples_split=2, n_estimators=350;, score=-0.016 total time=   5.5s\n",
      "[CV 5/5] END max_depth=None, min_samples_leaf=10, min_samples_split=2, n_estimators=350;, score=-0.016 total time=   5.5s\n",
      "[CV 1/5] END max_depth=None, min_samples_leaf=10, min_samples_split=2, n_estimators=400;, score=-0.016 total time=   6.3s\n",
      "[CV 2/5] END max_depth=None, min_samples_leaf=10, min_samples_split=2, n_estimators=400;, score=-0.017 total time=   6.3s\n",
      "[CV 3/5] END max_depth=None, min_samples_leaf=10, min_samples_split=2, n_estimators=400;, score=-0.017 total time=   6.3s\n",
      "[CV 4/5] END max_depth=None, min_samples_leaf=10, min_samples_split=2, n_estimators=400;, score=-0.016 total time=   6.3s\n",
      "[CV 5/5] END max_depth=None, min_samples_leaf=10, min_samples_split=2, n_estimators=400;, score=-0.016 total time=   6.2s\n",
      "[CV 1/5] END max_depth=None, min_samples_leaf=10, min_samples_split=2, n_estimators=450;, score=-0.016 total time=   7.1s\n",
      "[CV 2/5] END max_depth=None, min_samples_leaf=10, min_samples_split=2, n_estimators=450;, score=-0.017 total time=   7.1s\n",
      "[CV 3/5] END max_depth=None, min_samples_leaf=10, min_samples_split=2, n_estimators=450;, score=-0.017 total time=   7.1s\n",
      "[CV 4/5] END max_depth=None, min_samples_leaf=10, min_samples_split=2, n_estimators=450;, score=-0.016 total time=   7.1s\n",
      "[CV 5/5] END max_depth=None, min_samples_leaf=10, min_samples_split=2, n_estimators=450;, score=-0.016 total time=14.5min\n",
      "[CV 1/5] END max_depth=None, min_samples_leaf=10, min_samples_split=2, n_estimators=500;, score=-0.016 total time=   7.9s\n",
      "[CV 2/5] END max_depth=None, min_samples_leaf=10, min_samples_split=2, n_estimators=500;, score=-0.017 total time=   7.8s\n",
      "[CV 3/5] END max_depth=None, min_samples_leaf=10, min_samples_split=2, n_estimators=500;, score=-0.017 total time=   7.8s\n",
      "[CV 4/5] END max_depth=None, min_samples_leaf=10, min_samples_split=2, n_estimators=500;, score=-0.016 total time=   7.7s\n",
      "[CV 5/5] END max_depth=None, min_samples_leaf=10, min_samples_split=2, n_estimators=500;, score=-0.016 total time=   7.7s\n",
      "[CV 1/5] END max_depth=None, min_samples_leaf=10, min_samples_split=4, n_estimators=200;, score=-0.016 total time=   3.1s\n",
      "[CV 2/5] END max_depth=None, min_samples_leaf=10, min_samples_split=4, n_estimators=200;, score=-0.017 total time=   3.1s\n",
      "[CV 3/5] END max_depth=None, min_samples_leaf=10, min_samples_split=4, n_estimators=200;, score=-0.017 total time=   3.1s\n",
      "[CV 4/5] END max_depth=None, min_samples_leaf=10, min_samples_split=4, n_estimators=200;, score=-0.016 total time=   3.1s\n",
      "[CV 5/5] END max_depth=None, min_samples_leaf=10, min_samples_split=4, n_estimators=200;, score=-0.016 total time=   3.1s\n",
      "[CV 1/5] END max_depth=None, min_samples_leaf=10, min_samples_split=4, n_estimators=250;, score=-0.016 total time=   3.9s\n",
      "[CV 2/5] END max_depth=None, min_samples_leaf=10, min_samples_split=4, n_estimators=250;, score=-0.017 total time=   3.9s\n",
      "[CV 3/5] END max_depth=None, min_samples_leaf=10, min_samples_split=4, n_estimators=250;, score=-0.017 total time=   3.9s\n",
      "[CV 4/5] END max_depth=None, min_samples_leaf=10, min_samples_split=4, n_estimators=250;, score=-0.016 total time=   3.9s\n",
      "[CV 5/5] END max_depth=None, min_samples_leaf=10, min_samples_split=4, n_estimators=250;, score=-0.016 total time=   3.9s\n",
      "[CV 1/5] END max_depth=None, min_samples_leaf=10, min_samples_split=4, n_estimators=300;, score=-0.016 total time=   4.7s\n",
      "[CV 2/5] END max_depth=None, min_samples_leaf=10, min_samples_split=4, n_estimators=300;, score=-0.017 total time=   4.7s\n",
      "[CV 3/5] END max_depth=None, min_samples_leaf=10, min_samples_split=4, n_estimators=300;, score=-0.017 total time=   4.7s\n",
      "[CV 4/5] END max_depth=None, min_samples_leaf=10, min_samples_split=4, n_estimators=300;, score=-0.016 total time=   4.7s\n",
      "[CV 5/5] END max_depth=None, min_samples_leaf=10, min_samples_split=4, n_estimators=300;, score=-0.016 total time=   4.6s\n",
      "[CV 1/5] END max_depth=None, min_samples_leaf=10, min_samples_split=4, n_estimators=350;, score=-0.016 total time=   5.5s\n",
      "[CV 2/5] END max_depth=None, min_samples_leaf=10, min_samples_split=4, n_estimators=350;, score=-0.017 total time=   5.4s\n",
      "[CV 3/5] END max_depth=None, min_samples_leaf=10, min_samples_split=4, n_estimators=350;, score=-0.017 total time=   5.5s\n",
      "[CV 4/5] END max_depth=None, min_samples_leaf=10, min_samples_split=4, n_estimators=350;, score=-0.016 total time=   5.5s\n",
      "[CV 5/5] END max_depth=None, min_samples_leaf=10, min_samples_split=4, n_estimators=350;, score=-0.016 total time=   5.4s\n",
      "[CV 1/5] END max_depth=None, min_samples_leaf=10, min_samples_split=4, n_estimators=400;, score=-0.016 total time=   6.3s\n",
      "[CV 2/5] END max_depth=None, min_samples_leaf=10, min_samples_split=4, n_estimators=400;, score=-0.017 total time=   6.3s\n",
      "[CV 3/5] END max_depth=None, min_samples_leaf=10, min_samples_split=4, n_estimators=400;, score=-0.017 total time=   6.3s\n",
      "[CV 4/5] END max_depth=None, min_samples_leaf=10, min_samples_split=4, n_estimators=400;, score=-0.016 total time=   6.3s\n",
      "[CV 5/5] END max_depth=None, min_samples_leaf=10, min_samples_split=4, n_estimators=400;, score=-0.016 total time=   6.2s\n",
      "[CV 1/5] END max_depth=None, min_samples_leaf=10, min_samples_split=4, n_estimators=450;, score=-0.016 total time=   7.1s\n",
      "[CV 2/5] END max_depth=None, min_samples_leaf=10, min_samples_split=4, n_estimators=450;, score=-0.017 total time=   7.0s\n",
      "[CV 3/5] END max_depth=None, min_samples_leaf=10, min_samples_split=4, n_estimators=450;, score=-0.017 total time=   7.1s\n",
      "[CV 4/5] END max_depth=None, min_samples_leaf=10, min_samples_split=4, n_estimators=450;, score=-0.016 total time=   7.1s\n",
      "[CV 5/5] END max_depth=None, min_samples_leaf=10, min_samples_split=4, n_estimators=450;, score=-0.016 total time=   7.0s\n",
      "[CV 1/5] END max_depth=None, min_samples_leaf=10, min_samples_split=4, n_estimators=500;, score=-0.016 total time=   7.9s\n",
      "[CV 2/5] END max_depth=None, min_samples_leaf=10, min_samples_split=4, n_estimators=500;, score=-0.017 total time=   7.8s\n",
      "[CV 3/5] END max_depth=None, min_samples_leaf=10, min_samples_split=4, n_estimators=500;, score=-0.017 total time=   7.9s\n",
      "[CV 4/5] END max_depth=None, min_samples_leaf=10, min_samples_split=4, n_estimators=500;, score=-0.016 total time=   7.9s\n",
      "[CV 5/5] END max_depth=None, min_samples_leaf=10, min_samples_split=4, n_estimators=500;, score=-0.016 total time=   7.8s\n",
      "[CV 1/5] END max_depth=None, min_samples_leaf=10, min_samples_split=8, n_estimators=200;, score=-0.016 total time=   3.2s\n",
      "[CV 2/5] END max_depth=None, min_samples_leaf=10, min_samples_split=8, n_estimators=200;, score=-0.017 total time=   3.1s\n",
      "[CV 3/5] END max_depth=None, min_samples_leaf=10, min_samples_split=8, n_estimators=200;, score=-0.017 total time=   3.2s\n",
      "[CV 4/5] END max_depth=None, min_samples_leaf=10, min_samples_split=8, n_estimators=200;, score=-0.016 total time=   3.1s\n",
      "[CV 5/5] END max_depth=None, min_samples_leaf=10, min_samples_split=8, n_estimators=200;, score=-0.016 total time=   3.1s\n",
      "[CV 1/5] END max_depth=None, min_samples_leaf=10, min_samples_split=8, n_estimators=250;, score=-0.016 total time=   4.0s\n",
      "[CV 2/5] END max_depth=None, min_samples_leaf=10, min_samples_split=8, n_estimators=250;, score=-0.017 total time=   3.9s\n",
      "[CV 3/5] END max_depth=None, min_samples_leaf=10, min_samples_split=8, n_estimators=250;, score=-0.017 total time=   4.0s\n",
      "[CV 4/5] END max_depth=None, min_samples_leaf=10, min_samples_split=8, n_estimators=250;, score=-0.016 total time=   3.9s\n",
      "[CV 5/5] END max_depth=None, min_samples_leaf=10, min_samples_split=8, n_estimators=250;, score=-0.016 total time=   3.9s\n",
      "[CV 1/5] END max_depth=None, min_samples_leaf=10, min_samples_split=8, n_estimators=300;, score=-0.016 total time=   4.7s\n",
      "[CV 2/5] END max_depth=None, min_samples_leaf=10, min_samples_split=8, n_estimators=300;, score=-0.017 total time=   4.7s\n",
      "[CV 3/5] END max_depth=None, min_samples_leaf=10, min_samples_split=8, n_estimators=300;, score=-0.017 total time=   4.7s\n",
      "[CV 4/5] END max_depth=None, min_samples_leaf=10, min_samples_split=8, n_estimators=300;, score=-0.016 total time=   4.7s\n",
      "[CV 5/5] END max_depth=None, min_samples_leaf=10, min_samples_split=8, n_estimators=300;, score=-0.016 total time=   4.7s\n",
      "[CV 1/5] END max_depth=None, min_samples_leaf=10, min_samples_split=8, n_estimators=350;, score=-0.016 total time=   5.6s\n",
      "[CV 2/5] END max_depth=None, min_samples_leaf=10, min_samples_split=8, n_estimators=350;, score=-0.017 total time=   5.5s\n",
      "[CV 3/5] END max_depth=None, min_samples_leaf=10, min_samples_split=8, n_estimators=350;, score=-0.017 total time=   5.5s\n",
      "[CV 4/5] END max_depth=None, min_samples_leaf=10, min_samples_split=8, n_estimators=350;, score=-0.016 total time=   5.5s\n",
      "[CV 5/5] END max_depth=None, min_samples_leaf=10, min_samples_split=8, n_estimators=350;, score=-0.016 total time=   5.5s\n",
      "[CV 1/5] END max_depth=None, min_samples_leaf=10, min_samples_split=8, n_estimators=400;, score=-0.016 total time=   6.3s\n",
      "[CV 2/5] END max_depth=None, min_samples_leaf=10, min_samples_split=8, n_estimators=400;, score=-0.017 total time=   6.3s\n",
      "[CV 3/5] END max_depth=None, min_samples_leaf=10, min_samples_split=8, n_estimators=400;, score=-0.017 total time=   6.3s\n",
      "[CV 4/5] END max_depth=None, min_samples_leaf=10, min_samples_split=8, n_estimators=400;, score=-0.016 total time=   6.3s\n",
      "[CV 5/5] END max_depth=None, min_samples_leaf=10, min_samples_split=8, n_estimators=400;, score=-0.016 total time=   6.2s\n",
      "[CV 1/5] END max_depth=None, min_samples_leaf=10, min_samples_split=8, n_estimators=450;, score=-0.016 total time=   7.1s\n",
      "[CV 2/5] END max_depth=None, min_samples_leaf=10, min_samples_split=8, n_estimators=450;, score=-0.017 total time=   7.1s\n",
      "[CV 3/5] END max_depth=None, min_samples_leaf=10, min_samples_split=8, n_estimators=450;, score=-0.017 total time=   7.1s\n",
      "[CV 4/5] END max_depth=None, min_samples_leaf=10, min_samples_split=8, n_estimators=450;, score=-0.016 total time=   7.1s\n",
      "[CV 5/5] END max_depth=None, min_samples_leaf=10, min_samples_split=8, n_estimators=450;, score=-0.016 total time=   7.0s\n",
      "[CV 1/5] END max_depth=None, min_samples_leaf=10, min_samples_split=8, n_estimators=500;, score=-0.016 total time=   7.9s\n",
      "[CV 2/5] END max_depth=None, min_samples_leaf=10, min_samples_split=8, n_estimators=500;, score=-0.017 total time=   7.9s\n",
      "[CV 3/5] END max_depth=None, min_samples_leaf=10, min_samples_split=8, n_estimators=500;, score=-0.017 total time=   7.9s\n",
      "[CV 4/5] END max_depth=None, min_samples_leaf=10, min_samples_split=8, n_estimators=500;, score=-0.016 total time=   7.9s\n",
      "[CV 5/5] END max_depth=None, min_samples_leaf=10, min_samples_split=8, n_estimators=500;, score=-0.016 total time=   7.8s\n",
      "[CV 1/5] END max_depth=None, min_samples_leaf=10, min_samples_split=10, n_estimators=200;, score=-0.016 total time=   3.2s\n",
      "[CV 2/5] END max_depth=None, min_samples_leaf=10, min_samples_split=10, n_estimators=200;, score=-0.017 total time=   3.1s\n",
      "[CV 3/5] END max_depth=None, min_samples_leaf=10, min_samples_split=10, n_estimators=200;, score=-0.017 total time=   3.2s\n",
      "[CV 4/5] END max_depth=None, min_samples_leaf=10, min_samples_split=10, n_estimators=200;, score=-0.016 total time=   3.1s\n",
      "[CV 5/5] END max_depth=None, min_samples_leaf=10, min_samples_split=10, n_estimators=200;, score=-0.016 total time=   3.1s\n",
      "[CV 1/5] END max_depth=None, min_samples_leaf=10, min_samples_split=10, n_estimators=250;, score=-0.016 total time=   4.0s\n",
      "[CV 2/5] END max_depth=None, min_samples_leaf=10, min_samples_split=10, n_estimators=250;, score=-0.017 total time=   3.9s\n",
      "[CV 3/5] END max_depth=None, min_samples_leaf=10, min_samples_split=10, n_estimators=250;, score=-0.017 total time=   4.0s\n",
      "[CV 4/5] END max_depth=None, min_samples_leaf=10, min_samples_split=10, n_estimators=250;, score=-0.016 total time=   3.9s\n",
      "[CV 5/5] END max_depth=None, min_samples_leaf=10, min_samples_split=10, n_estimators=250;, score=-0.016 total time=   3.9s\n",
      "[CV 1/5] END max_depth=None, min_samples_leaf=10, min_samples_split=10, n_estimators=300;, score=-0.016 total time=   4.7s\n",
      "[CV 2/5] END max_depth=None, min_samples_leaf=10, min_samples_split=10, n_estimators=300;, score=-0.017 total time=   4.7s\n",
      "[CV 3/5] END max_depth=None, min_samples_leaf=10, min_samples_split=10, n_estimators=300;, score=-0.017 total time=   4.7s\n",
      "[CV 4/5] END max_depth=None, min_samples_leaf=10, min_samples_split=10, n_estimators=300;, score=-0.016 total time=   4.7s\n",
      "[CV 5/5] END max_depth=None, min_samples_leaf=10, min_samples_split=10, n_estimators=300;, score=-0.016 total time=   4.7s\n",
      "[CV 1/5] END max_depth=None, min_samples_leaf=10, min_samples_split=10, n_estimators=350;, score=-0.016 total time=   5.5s\n",
      "[CV 2/5] END max_depth=None, min_samples_leaf=10, min_samples_split=10, n_estimators=350;, score=-0.017 total time=   5.5s\n",
      "[CV 3/5] END max_depth=None, min_samples_leaf=10, min_samples_split=10, n_estimators=350;, score=-0.017 total time=   5.5s\n",
      "[CV 4/5] END max_depth=None, min_samples_leaf=10, min_samples_split=10, n_estimators=350;, score=-0.016 total time=   5.5s\n",
      "[CV 5/5] END max_depth=None, min_samples_leaf=10, min_samples_split=10, n_estimators=350;, score=-0.016 total time=   5.5s\n",
      "[CV 1/5] END max_depth=None, min_samples_leaf=10, min_samples_split=10, n_estimators=400;, score=-0.016 total time=   6.3s\n",
      "[CV 2/5] END max_depth=None, min_samples_leaf=10, min_samples_split=10, n_estimators=400;, score=-0.017 total time=   6.3s\n",
      "[CV 3/5] END max_depth=None, min_samples_leaf=10, min_samples_split=10, n_estimators=400;, score=-0.017 total time=   6.3s\n",
      "[CV 4/5] END max_depth=None, min_samples_leaf=10, min_samples_split=10, n_estimators=400;, score=-0.016 total time=   6.3s\n",
      "[CV 5/5] END max_depth=None, min_samples_leaf=10, min_samples_split=10, n_estimators=400;, score=-0.016 total time=   6.2s\n",
      "[CV 1/5] END max_depth=None, min_samples_leaf=10, min_samples_split=10, n_estimators=450;, score=-0.016 total time=   7.1s\n",
      "[CV 2/5] END max_depth=None, min_samples_leaf=10, min_samples_split=10, n_estimators=450;, score=-0.017 total time=   7.1s\n",
      "[CV 3/5] END max_depth=None, min_samples_leaf=10, min_samples_split=10, n_estimators=450;, score=-0.017 total time=   7.1s\n",
      "[CV 4/5] END max_depth=None, min_samples_leaf=10, min_samples_split=10, n_estimators=450;, score=-0.016 total time=   7.1s\n",
      "[CV 5/5] END max_depth=None, min_samples_leaf=10, min_samples_split=10, n_estimators=450;, score=-0.016 total time=   7.0s\n",
      "[CV 1/5] END max_depth=None, min_samples_leaf=10, min_samples_split=10, n_estimators=500;, score=-0.016 total time=   7.9s\n",
      "[CV 2/5] END max_depth=None, min_samples_leaf=10, min_samples_split=10, n_estimators=500;, score=-0.017 total time=   7.9s\n",
      "[CV 3/5] END max_depth=None, min_samples_leaf=10, min_samples_split=10, n_estimators=500;, score=-0.017 total time=   7.9s\n",
      "[CV 4/5] END max_depth=None, min_samples_leaf=10, min_samples_split=10, n_estimators=500;, score=-0.016 total time=   7.9s\n",
      "[CV 5/5] END max_depth=None, min_samples_leaf=10, min_samples_split=10, n_estimators=500;, score=-0.016 total time=   7.8s\n",
      "[CV 1/5] END max_depth=None, min_samples_leaf=10, min_samples_split=20, n_estimators=200;, score=-0.016 total time=   3.2s\n",
      "[CV 2/5] END max_depth=None, min_samples_leaf=10, min_samples_split=20, n_estimators=200;, score=-0.017 total time=   3.2s\n",
      "[CV 3/5] END max_depth=None, min_samples_leaf=10, min_samples_split=20, n_estimators=200;, score=-0.017 total time= 7.3min\n",
      "[CV 4/5] END max_depth=None, min_samples_leaf=10, min_samples_split=20, n_estimators=200;, score=-0.016 total time=   3.1s\n",
      "[CV 5/5] END max_depth=None, min_samples_leaf=10, min_samples_split=20, n_estimators=200;, score=-0.016 total time=   3.1s\n",
      "[CV 1/5] END max_depth=None, min_samples_leaf=10, min_samples_split=20, n_estimators=250;, score=-0.016 total time=   3.9s\n",
      "[CV 2/5] END max_depth=None, min_samples_leaf=10, min_samples_split=20, n_estimators=250;, score=-0.017 total time=   3.9s\n",
      "[CV 3/5] END max_depth=None, min_samples_leaf=10, min_samples_split=20, n_estimators=250;, score=-0.017 total time=   3.9s\n",
      "[CV 4/5] END max_depth=None, min_samples_leaf=10, min_samples_split=20, n_estimators=250;, score=-0.016 total time=   3.9s\n",
      "[CV 5/5] END max_depth=None, min_samples_leaf=10, min_samples_split=20, n_estimators=250;, score=-0.016 total time=   3.9s\n",
      "[CV 1/5] END max_depth=None, min_samples_leaf=10, min_samples_split=20, n_estimators=300;, score=-0.016 total time=   4.7s\n",
      "[CV 2/5] END max_depth=None, min_samples_leaf=10, min_samples_split=20, n_estimators=300;, score=-0.017 total time=   4.6s\n",
      "[CV 3/5] END max_depth=None, min_samples_leaf=10, min_samples_split=20, n_estimators=300;, score=-0.017 total time=   4.7s\n",
      "[CV 4/5] END max_depth=None, min_samples_leaf=10, min_samples_split=20, n_estimators=300;, score=-0.016 total time=   4.7s\n",
      "[CV 5/5] END max_depth=None, min_samples_leaf=10, min_samples_split=20, n_estimators=300;, score=-0.016 total time=   4.6s\n",
      "[CV 1/5] END max_depth=None, min_samples_leaf=10, min_samples_split=20, n_estimators=350;, score=-0.016 total time=   5.5s\n",
      "[CV 2/5] END max_depth=None, min_samples_leaf=10, min_samples_split=20, n_estimators=350;, score=-0.017 total time=   5.4s\n",
      "[CV 3/5] END max_depth=None, min_samples_leaf=10, min_samples_split=20, n_estimators=350;, score=-0.017 total time=   5.5s\n",
      "[CV 4/5] END max_depth=None, min_samples_leaf=10, min_samples_split=20, n_estimators=350;, score=-0.016 total time=   5.4s\n",
      "[CV 5/5] END max_depth=None, min_samples_leaf=10, min_samples_split=20, n_estimators=350;, score=-0.016 total time=   5.5s\n",
      "[CV 1/5] END max_depth=None, min_samples_leaf=10, min_samples_split=20, n_estimators=400;, score=-0.016 total time=   6.3s\n",
      "[CV 2/5] END max_depth=None, min_samples_leaf=10, min_samples_split=20, n_estimators=400;, score=-0.017 total time=   6.2s\n",
      "[CV 3/5] END max_depth=None, min_samples_leaf=10, min_samples_split=20, n_estimators=400;, score=-0.017 total time=   6.3s\n",
      "[CV 4/5] END max_depth=None, min_samples_leaf=10, min_samples_split=20, n_estimators=400;, score=-0.016 total time=   6.3s\n",
      "[CV 5/5] END max_depth=None, min_samples_leaf=10, min_samples_split=20, n_estimators=400;, score=-0.016 total time=   6.2s\n",
      "[CV 1/5] END max_depth=None, min_samples_leaf=10, min_samples_split=20, n_estimators=450;, score=-0.016 total time=   7.1s\n",
      "[CV 2/5] END max_depth=None, min_samples_leaf=10, min_samples_split=20, n_estimators=450;, score=-0.017 total time=   7.1s\n",
      "[CV 3/5] END max_depth=None, min_samples_leaf=10, min_samples_split=20, n_estimators=450;, score=-0.017 total time=   7.1s\n",
      "[CV 4/5] END max_depth=None, min_samples_leaf=10, min_samples_split=20, n_estimators=450;, score=-0.016 total time=   7.1s\n",
      "[CV 5/5] END max_depth=None, min_samples_leaf=10, min_samples_split=20, n_estimators=450;, score=-0.016 total time=   7.0s\n",
      "[CV 1/5] END max_depth=None, min_samples_leaf=10, min_samples_split=20, n_estimators=500;, score=-0.016 total time=   7.9s\n",
      "[CV 2/5] END max_depth=None, min_samples_leaf=10, min_samples_split=20, n_estimators=500;, score=-0.017 total time=   7.9s\n",
      "[CV 3/5] END max_depth=None, min_samples_leaf=10, min_samples_split=20, n_estimators=500;, score=-0.017 total time=   7.9s\n",
      "[CV 4/5] END max_depth=None, min_samples_leaf=10, min_samples_split=20, n_estimators=500;, score=-0.016 total time=   7.9s\n",
      "[CV 5/5] END max_depth=None, min_samples_leaf=10, min_samples_split=20, n_estimators=500;, score=-0.016 total time=   7.8s\n",
      "[CV 1/5] END max_depth=None, min_samples_leaf=20, min_samples_split=2, n_estimators=200;, score=-0.017 total time=   2.9s\n",
      "[CV 2/5] END max_depth=None, min_samples_leaf=20, min_samples_split=2, n_estimators=200;, score=-0.017 total time=   2.8s\n",
      "[CV 3/5] END max_depth=None, min_samples_leaf=20, min_samples_split=2, n_estimators=200;, score=-0.017 total time=   2.8s\n",
      "[CV 4/5] END max_depth=None, min_samples_leaf=20, min_samples_split=2, n_estimators=200;, score=-0.016 total time=   2.8s\n",
      "[CV 5/5] END max_depth=None, min_samples_leaf=20, min_samples_split=2, n_estimators=200;, score=-0.016 total time=   2.8s\n",
      "[CV 1/5] END max_depth=None, min_samples_leaf=20, min_samples_split=2, n_estimators=250;, score=-0.017 total time=   3.6s\n",
      "[CV 2/5] END max_depth=None, min_samples_leaf=20, min_samples_split=2, n_estimators=250;, score=-0.017 total time=   3.5s\n",
      "[CV 3/5] END max_depth=None, min_samples_leaf=20, min_samples_split=2, n_estimators=250;, score=-0.017 total time=   3.6s\n",
      "[CV 4/5] END max_depth=None, min_samples_leaf=20, min_samples_split=2, n_estimators=250;, score=-0.016 total time=   3.6s\n",
      "[CV 5/5] END max_depth=None, min_samples_leaf=20, min_samples_split=2, n_estimators=250;, score=-0.016 total time=   3.5s\n",
      "[CV 1/5] END max_depth=None, min_samples_leaf=20, min_samples_split=2, n_estimators=300;, score=-0.017 total time=   4.3s\n",
      "[CV 2/5] END max_depth=None, min_samples_leaf=20, min_samples_split=2, n_estimators=300;, score=-0.017 total time=   4.3s\n",
      "[CV 3/5] END max_depth=None, min_samples_leaf=20, min_samples_split=2, n_estimators=300;, score=-0.017 total time=   4.3s\n",
      "[CV 4/5] END max_depth=None, min_samples_leaf=20, min_samples_split=2, n_estimators=300;, score=-0.016 total time=   4.3s\n",
      "[CV 5/5] END max_depth=None, min_samples_leaf=20, min_samples_split=2, n_estimators=300;, score=-0.016 total time=   4.2s\n",
      "[CV 1/5] END max_depth=None, min_samples_leaf=20, min_samples_split=2, n_estimators=350;, score=-0.017 total time=   5.0s\n",
      "[CV 2/5] END max_depth=None, min_samples_leaf=20, min_samples_split=2, n_estimators=350;, score=-0.017 total time=   4.9s\n",
      "[CV 3/5] END max_depth=None, min_samples_leaf=20, min_samples_split=2, n_estimators=350;, score=-0.017 total time=   5.0s\n",
      "[CV 4/5] END max_depth=None, min_samples_leaf=20, min_samples_split=2, n_estimators=350;, score=-0.016 total time=   5.0s\n",
      "[CV 5/5] END max_depth=None, min_samples_leaf=20, min_samples_split=2, n_estimators=350;, score=-0.016 total time=   5.0s\n",
      "[CV 1/5] END max_depth=None, min_samples_leaf=20, min_samples_split=2, n_estimators=400;, score=-0.017 total time=   5.7s\n",
      "[CV 2/5] END max_depth=None, min_samples_leaf=20, min_samples_split=2, n_estimators=400;, score=-0.017 total time=   5.7s\n",
      "[CV 3/5] END max_depth=None, min_samples_leaf=20, min_samples_split=2, n_estimators=400;, score=-0.017 total time=   5.7s\n",
      "[CV 4/5] END max_depth=None, min_samples_leaf=20, min_samples_split=2, n_estimators=400;, score=-0.016 total time=   5.7s\n",
      "[CV 5/5] END max_depth=None, min_samples_leaf=20, min_samples_split=2, n_estimators=400;, score=-0.016 total time=   5.6s\n",
      "[CV 1/5] END max_depth=None, min_samples_leaf=20, min_samples_split=2, n_estimators=450;, score=-0.017 total time=   6.4s\n",
      "[CV 2/5] END max_depth=None, min_samples_leaf=20, min_samples_split=2, n_estimators=450;, score=-0.017 total time=   6.4s\n",
      "[CV 3/5] END max_depth=None, min_samples_leaf=20, min_samples_split=2, n_estimators=450;, score=-0.017 total time=   6.4s\n",
      "[CV 4/5] END max_depth=None, min_samples_leaf=20, min_samples_split=2, n_estimators=450;, score=-0.016 total time=   6.4s\n",
      "[CV 5/5] END max_depth=None, min_samples_leaf=20, min_samples_split=2, n_estimators=450;, score=-0.016 total time=   6.3s\n",
      "[CV 1/5] END max_depth=None, min_samples_leaf=20, min_samples_split=2, n_estimators=500;, score=-0.017 total time=   7.1s\n",
      "[CV 2/5] END max_depth=None, min_samples_leaf=20, min_samples_split=2, n_estimators=500;, score=-0.017 total time=   7.1s\n",
      "[CV 3/5] END max_depth=None, min_samples_leaf=20, min_samples_split=2, n_estimators=500;, score=-0.017 total time=   7.1s\n",
      "[CV 4/5] END max_depth=None, min_samples_leaf=20, min_samples_split=2, n_estimators=500;, score=-0.016 total time=   7.1s\n",
      "[CV 5/5] END max_depth=None, min_samples_leaf=20, min_samples_split=2, n_estimators=500;, score=-0.016 total time=   7.0s\n",
      "[CV 1/5] END max_depth=None, min_samples_leaf=20, min_samples_split=4, n_estimators=200;, score=-0.017 total time=   2.9s\n",
      "[CV 2/5] END max_depth=None, min_samples_leaf=20, min_samples_split=4, n_estimators=200;, score=-0.017 total time=   2.8s\n",
      "[CV 3/5] END max_depth=None, min_samples_leaf=20, min_samples_split=4, n_estimators=200;, score=-0.017 total time=   2.9s\n",
      "[CV 4/5] END max_depth=None, min_samples_leaf=20, min_samples_split=4, n_estimators=200;, score=-0.016 total time=   2.8s\n",
      "[CV 5/5] END max_depth=None, min_samples_leaf=20, min_samples_split=4, n_estimators=200;, score=-0.016 total time=   2.8s\n",
      "[CV 1/5] END max_depth=None, min_samples_leaf=20, min_samples_split=4, n_estimators=250;, score=-0.017 total time=   3.6s\n",
      "[CV 2/5] END max_depth=None, min_samples_leaf=20, min_samples_split=4, n_estimators=250;, score=-0.017 total time=   3.5s\n",
      "[CV 3/5] END max_depth=None, min_samples_leaf=20, min_samples_split=4, n_estimators=250;, score=-0.017 total time=   3.6s\n",
      "[CV 4/5] END max_depth=None, min_samples_leaf=20, min_samples_split=4, n_estimators=250;, score=-0.016 total time=   3.5s\n",
      "[CV 5/5] END max_depth=None, min_samples_leaf=20, min_samples_split=4, n_estimators=250;, score=-0.016 total time=   3.5s\n",
      "[CV 1/5] END max_depth=None, min_samples_leaf=20, min_samples_split=4, n_estimators=300;, score=-0.017 total time=   4.3s\n",
      "[CV 2/5] END max_depth=None, min_samples_leaf=20, min_samples_split=4, n_estimators=300;, score=-0.017 total time=   4.3s\n",
      "[CV 3/5] END max_depth=None, min_samples_leaf=20, min_samples_split=4, n_estimators=300;, score=-0.017 total time=   4.3s\n",
      "[CV 4/5] END max_depth=None, min_samples_leaf=20, min_samples_split=4, n_estimators=300;, score=-0.016 total time=   4.3s\n",
      "[CV 5/5] END max_depth=None, min_samples_leaf=20, min_samples_split=4, n_estimators=300;, score=-0.016 total time=   4.2s\n",
      "[CV 1/5] END max_depth=None, min_samples_leaf=20, min_samples_split=4, n_estimators=350;, score=-0.017 total time=   5.0s\n",
      "[CV 2/5] END max_depth=None, min_samples_leaf=20, min_samples_split=4, n_estimators=350;, score=-0.017 total time=   4.9s\n",
      "[CV 3/5] END max_depth=None, min_samples_leaf=20, min_samples_split=4, n_estimators=350;, score=-0.017 total time=   5.0s\n",
      "[CV 4/5] END max_depth=None, min_samples_leaf=20, min_samples_split=4, n_estimators=350;, score=-0.016 total time=   5.0s\n",
      "[CV 5/5] END max_depth=None, min_samples_leaf=20, min_samples_split=4, n_estimators=350;, score=-0.016 total time=   4.9s\n",
      "[CV 1/5] END max_depth=None, min_samples_leaf=20, min_samples_split=4, n_estimators=400;, score=-0.017 total time=   5.7s\n",
      "[CV 2/5] END max_depth=None, min_samples_leaf=20, min_samples_split=4, n_estimators=400;, score=-0.017 total time=   5.7s\n",
      "[CV 3/5] END max_depth=None, min_samples_leaf=20, min_samples_split=4, n_estimators=400;, score=-0.017 total time=   5.7s\n",
      "[CV 4/5] END max_depth=None, min_samples_leaf=20, min_samples_split=4, n_estimators=400;, score=-0.016 total time=   5.7s\n",
      "[CV 5/5] END max_depth=None, min_samples_leaf=20, min_samples_split=4, n_estimators=400;, score=-0.016 total time=   5.6s\n",
      "[CV 1/5] END max_depth=None, min_samples_leaf=20, min_samples_split=4, n_estimators=450;, score=-0.017 total time=   6.4s\n",
      "[CV 2/5] END max_depth=None, min_samples_leaf=20, min_samples_split=4, n_estimators=450;, score=-0.017 total time=   6.4s\n",
      "[CV 3/5] END max_depth=None, min_samples_leaf=20, min_samples_split=4, n_estimators=450;, score=-0.017 total time=   6.4s\n",
      "[CV 4/5] END max_depth=None, min_samples_leaf=20, min_samples_split=4, n_estimators=450;, score=-0.016 total time=   6.4s\n",
      "[CV 5/5] END max_depth=None, min_samples_leaf=20, min_samples_split=4, n_estimators=450;, score=-0.016 total time=   6.3s\n",
      "[CV 1/5] END max_depth=None, min_samples_leaf=20, min_samples_split=4, n_estimators=500;, score=-0.017 total time=   7.1s\n",
      "[CV 2/5] END max_depth=None, min_samples_leaf=20, min_samples_split=4, n_estimators=500;, score=-0.017 total time=   7.1s\n",
      "[CV 3/5] END max_depth=None, min_samples_leaf=20, min_samples_split=4, n_estimators=500;, score=-0.017 total time=   7.1s\n",
      "[CV 4/5] END max_depth=None, min_samples_leaf=20, min_samples_split=4, n_estimators=500;, score=-0.016 total time=   7.1s\n",
      "[CV 5/5] END max_depth=None, min_samples_leaf=20, min_samples_split=4, n_estimators=500;, score=-0.016 total time=   7.1s\n",
      "[CV 1/5] END max_depth=None, min_samples_leaf=20, min_samples_split=8, n_estimators=200;, score=-0.017 total time=   2.9s\n",
      "[CV 2/5] END max_depth=None, min_samples_leaf=20, min_samples_split=8, n_estimators=200;, score=-0.017 total time=   2.8s\n",
      "[CV 3/5] END max_depth=None, min_samples_leaf=20, min_samples_split=8, n_estimators=200;, score=-0.017 total time=   2.8s\n",
      "[CV 4/5] END max_depth=None, min_samples_leaf=20, min_samples_split=8, n_estimators=200;, score=-0.016 total time=   2.8s\n",
      "[CV 5/5] END max_depth=None, min_samples_leaf=20, min_samples_split=8, n_estimators=200;, score=-0.016 total time=   2.8s\n",
      "[CV 1/5] END max_depth=None, min_samples_leaf=20, min_samples_split=8, n_estimators=250;, score=-0.017 total time=   3.6s\n",
      "[CV 2/5] END max_depth=None, min_samples_leaf=20, min_samples_split=8, n_estimators=250;, score=-0.017 total time=   3.5s\n",
      "[CV 3/5] END max_depth=None, min_samples_leaf=20, min_samples_split=8, n_estimators=250;, score=-0.017 total time=   3.6s\n",
      "[CV 4/5] END max_depth=None, min_samples_leaf=20, min_samples_split=8, n_estimators=250;, score=-0.016 total time=   3.5s\n",
      "[CV 5/5] END max_depth=None, min_samples_leaf=20, min_samples_split=8, n_estimators=250;, score=-0.016 total time=   3.5s\n",
      "[CV 1/5] END max_depth=None, min_samples_leaf=20, min_samples_split=8, n_estimators=300;, score=-0.017 total time=   4.3s\n",
      "[CV 2/5] END max_depth=None, min_samples_leaf=20, min_samples_split=8, n_estimators=300;, score=-0.017 total time=   4.2s\n",
      "[CV 3/5] END max_depth=None, min_samples_leaf=20, min_samples_split=8, n_estimators=300;, score=-0.017 total time=   4.3s\n",
      "[CV 4/5] END max_depth=None, min_samples_leaf=20, min_samples_split=8, n_estimators=300;, score=-0.016 total time=   4.3s\n",
      "[CV 5/5] END max_depth=None, min_samples_leaf=20, min_samples_split=8, n_estimators=300;, score=-0.016 total time=   4.2s\n",
      "[CV 1/5] END max_depth=None, min_samples_leaf=20, min_samples_split=8, n_estimators=350;, score=-0.017 total time=   5.0s\n",
      "[CV 2/5] END max_depth=None, min_samples_leaf=20, min_samples_split=8, n_estimators=350;, score=-0.017 total time=   5.0s\n",
      "[CV 3/5] END max_depth=None, min_samples_leaf=20, min_samples_split=8, n_estimators=350;, score=-0.017 total time=   5.0s\n",
      "[CV 4/5] END max_depth=None, min_samples_leaf=20, min_samples_split=8, n_estimators=350;, score=-0.016 total time=   5.0s\n",
      "[CV 5/5] END max_depth=None, min_samples_leaf=20, min_samples_split=8, n_estimators=350;, score=-0.016 total time=   4.9s\n",
      "[CV 1/5] END max_depth=None, min_samples_leaf=20, min_samples_split=8, n_estimators=400;, score=-0.017 total time=   5.8s\n",
      "[CV 2/5] END max_depth=None, min_samples_leaf=20, min_samples_split=8, n_estimators=400;, score=-0.017 total time=   5.7s\n",
      "[CV 3/5] END max_depth=None, min_samples_leaf=20, min_samples_split=8, n_estimators=400;, score=-0.017 total time=   5.7s\n",
      "[CV 4/5] END max_depth=None, min_samples_leaf=20, min_samples_split=8, n_estimators=400;, score=-0.016 total time=   5.7s\n",
      "[CV 5/5] END max_depth=None, min_samples_leaf=20, min_samples_split=8, n_estimators=400;, score=-0.016 total time=   5.6s\n",
      "[CV 1/5] END max_depth=None, min_samples_leaf=20, min_samples_split=8, n_estimators=450;, score=-0.017 total time=   6.4s\n",
      "[CV 2/5] END max_depth=None, min_samples_leaf=20, min_samples_split=8, n_estimators=450;, score=-0.017 total time=   6.4s\n",
      "[CV 3/5] END max_depth=None, min_samples_leaf=20, min_samples_split=8, n_estimators=450;, score=-0.017 total time=   6.4s\n",
      "[CV 4/5] END max_depth=None, min_samples_leaf=20, min_samples_split=8, n_estimators=450;, score=-0.016 total time=   6.4s\n",
      "[CV 5/5] END max_depth=None, min_samples_leaf=20, min_samples_split=8, n_estimators=450;, score=-0.016 total time=   6.3s\n",
      "[CV 1/5] END max_depth=None, min_samples_leaf=20, min_samples_split=8, n_estimators=500;, score=-0.017 total time=   7.1s\n",
      "[CV 2/5] END max_depth=None, min_samples_leaf=20, min_samples_split=8, n_estimators=500;, score=-0.017 total time=   7.1s\n",
      "[CV 3/5] END max_depth=None, min_samples_leaf=20, min_samples_split=8, n_estimators=500;, score=-0.017 total time=   7.2s\n",
      "[CV 4/5] END max_depth=None, min_samples_leaf=20, min_samples_split=8, n_estimators=500;, score=-0.016 total time=   7.1s\n",
      "[CV 5/5] END max_depth=None, min_samples_leaf=20, min_samples_split=8, n_estimators=500;, score=-0.016 total time=   7.1s\n",
      "[CV 1/5] END max_depth=None, min_samples_leaf=20, min_samples_split=10, n_estimators=200;, score=-0.017 total time=   2.9s\n",
      "[CV 2/5] END max_depth=None, min_samples_leaf=20, min_samples_split=10, n_estimators=200;, score=-0.017 total time=   2.8s\n",
      "[CV 3/5] END max_depth=None, min_samples_leaf=20, min_samples_split=10, n_estimators=200;, score=-0.017 total time=   2.9s\n",
      "[CV 4/5] END max_depth=None, min_samples_leaf=20, min_samples_split=10, n_estimators=200;, score=-0.016 total time=   2.8s\n",
      "[CV 5/5] END max_depth=None, min_samples_leaf=20, min_samples_split=10, n_estimators=200;, score=-0.016 total time=   2.8s\n",
      "[CV 1/5] END max_depth=None, min_samples_leaf=20, min_samples_split=10, n_estimators=250;, score=-0.017 total time=   3.6s\n",
      "[CV 2/5] END max_depth=None, min_samples_leaf=20, min_samples_split=10, n_estimators=250;, score=-0.017 total time=   3.5s\n",
      "[CV 3/5] END max_depth=None, min_samples_leaf=20, min_samples_split=10, n_estimators=250;, score=-0.017 total time=   3.6s\n",
      "[CV 4/5] END max_depth=None, min_samples_leaf=20, min_samples_split=10, n_estimators=250;, score=-0.016 total time=   3.5s\n",
      "[CV 5/5] END max_depth=None, min_samples_leaf=20, min_samples_split=10, n_estimators=250;, score=-0.016 total time=   3.5s\n",
      "[CV 1/5] END max_depth=None, min_samples_leaf=20, min_samples_split=10, n_estimators=300;, score=-0.017 total time=   4.3s\n",
      "[CV 2/5] END max_depth=None, min_samples_leaf=20, min_samples_split=10, n_estimators=300;, score=-0.017 total time=   4.2s\n",
      "[CV 3/5] END max_depth=None, min_samples_leaf=20, min_samples_split=10, n_estimators=300;, score=-0.017 total time=   4.3s\n",
      "[CV 4/5] END max_depth=None, min_samples_leaf=20, min_samples_split=10, n_estimators=300;, score=-0.016 total time=   4.3s\n",
      "[CV 5/5] END max_depth=None, min_samples_leaf=20, min_samples_split=10, n_estimators=300;, score=-0.016 total time=   4.3s\n",
      "[CV 1/5] END max_depth=None, min_samples_leaf=20, min_samples_split=10, n_estimators=350;, score=-0.017 total time=   5.0s\n",
      "[CV 2/5] END max_depth=None, min_samples_leaf=20, min_samples_split=10, n_estimators=350;, score=-0.017 total time=   5.0s\n",
      "[CV 3/5] END max_depth=None, min_samples_leaf=20, min_samples_split=10, n_estimators=350;, score=-0.017 total time=   5.0s\n",
      "[CV 4/5] END max_depth=None, min_samples_leaf=20, min_samples_split=10, n_estimators=350;, score=-0.016 total time=   5.0s\n",
      "[CV 5/5] END max_depth=None, min_samples_leaf=20, min_samples_split=10, n_estimators=350;, score=-0.016 total time=   4.9s\n",
      "[CV 1/5] END max_depth=None, min_samples_leaf=20, min_samples_split=10, n_estimators=400;, score=-0.017 total time=   5.7s\n",
      "[CV 2/5] END max_depth=None, min_samples_leaf=20, min_samples_split=10, n_estimators=400;, score=-0.017 total time=   5.7s\n",
      "[CV 3/5] END max_depth=None, min_samples_leaf=20, min_samples_split=10, n_estimators=400;, score=-0.017 total time=   5.7s\n",
      "[CV 4/5] END max_depth=None, min_samples_leaf=20, min_samples_split=10, n_estimators=400;, score=-0.016 total time=   5.7s\n",
      "[CV 5/5] END max_depth=None, min_samples_leaf=20, min_samples_split=10, n_estimators=400;, score=-0.016 total time=   5.6s\n",
      "[CV 1/5] END max_depth=None, min_samples_leaf=20, min_samples_split=10, n_estimators=450;, score=-0.017 total time=   6.5s\n",
      "[CV 2/5] END max_depth=None, min_samples_leaf=20, min_samples_split=10, n_estimators=450;, score=-0.017 total time=   6.4s\n",
      "[CV 3/5] END max_depth=None, min_samples_leaf=20, min_samples_split=10, n_estimators=450;, score=-0.017 total time=   6.4s\n",
      "[CV 4/5] END max_depth=None, min_samples_leaf=20, min_samples_split=10, n_estimators=450;, score=-0.016 total time=   6.4s\n",
      "[CV 5/5] END max_depth=None, min_samples_leaf=20, min_samples_split=10, n_estimators=450;, score=-0.016 total time=   6.3s\n",
      "[CV 1/5] END max_depth=None, min_samples_leaf=20, min_samples_split=10, n_estimators=500;, score=-0.017 total time=   7.2s\n",
      "[CV 2/5] END max_depth=None, min_samples_leaf=20, min_samples_split=10, n_estimators=500;, score=-0.017 total time=   7.1s\n",
      "[CV 3/5] END max_depth=None, min_samples_leaf=20, min_samples_split=10, n_estimators=500;, score=-0.017 total time=   7.2s\n",
      "[CV 4/5] END max_depth=None, min_samples_leaf=20, min_samples_split=10, n_estimators=500;, score=-0.016 total time=   7.1s\n",
      "[CV 5/5] END max_depth=None, min_samples_leaf=20, min_samples_split=10, n_estimators=500;, score=-0.016 total time=   7.0s\n",
      "[CV 1/5] END max_depth=None, min_samples_leaf=20, min_samples_split=20, n_estimators=200;, score=-0.017 total time=   2.9s\n",
      "[CV 2/5] END max_depth=None, min_samples_leaf=20, min_samples_split=20, n_estimators=200;, score=-0.017 total time=   2.8s\n",
      "[CV 3/5] END max_depth=None, min_samples_leaf=20, min_samples_split=20, n_estimators=200;, score=-0.017 total time=   2.8s\n",
      "[CV 4/5] END max_depth=None, min_samples_leaf=20, min_samples_split=20, n_estimators=200;, score=-0.016 total time=   2.8s\n",
      "[CV 5/5] END max_depth=None, min_samples_leaf=20, min_samples_split=20, n_estimators=200;, score=-0.016 total time=   2.8s\n",
      "[CV 1/5] END max_depth=None, min_samples_leaf=20, min_samples_split=20, n_estimators=250;, score=-0.017 total time=   3.6s\n",
      "[CV 2/5] END max_depth=None, min_samples_leaf=20, min_samples_split=20, n_estimators=250;, score=-0.017 total time=   3.5s\n",
      "[CV 3/5] END max_depth=None, min_samples_leaf=20, min_samples_split=20, n_estimators=250;, score=-0.017 total time=   3.6s\n",
      "[CV 4/5] END max_depth=None, min_samples_leaf=20, min_samples_split=20, n_estimators=250;, score=-0.016 total time=   3.5s\n",
      "[CV 5/5] END max_depth=None, min_samples_leaf=20, min_samples_split=20, n_estimators=250;, score=-0.016 total time=   3.5s\n",
      "[CV 1/5] END max_depth=None, min_samples_leaf=20, min_samples_split=20, n_estimators=300;, score=-0.017 total time=   4.3s\n",
      "[CV 2/5] END max_depth=None, min_samples_leaf=20, min_samples_split=20, n_estimators=300;, score=-0.017 total time=   4.2s\n",
      "[CV 3/5] END max_depth=None, min_samples_leaf=20, min_samples_split=20, n_estimators=300;, score=-0.017 total time=   4.3s\n",
      "[CV 4/5] END max_depth=None, min_samples_leaf=20, min_samples_split=20, n_estimators=300;, score=-0.016 total time=   4.2s\n",
      "[CV 5/5] END max_depth=None, min_samples_leaf=20, min_samples_split=20, n_estimators=300;, score=-0.016 total time=   4.2s\n",
      "[CV 1/5] END max_depth=None, min_samples_leaf=20, min_samples_split=20, n_estimators=350;, score=-0.017 total time=   5.0s\n",
      "[CV 2/5] END max_depth=None, min_samples_leaf=20, min_samples_split=20, n_estimators=350;, score=-0.017 total time=   5.0s\n",
      "[CV 3/5] END max_depth=None, min_samples_leaf=20, min_samples_split=20, n_estimators=350;, score=-0.017 total time=   5.0s\n",
      "[CV 4/5] END max_depth=None, min_samples_leaf=20, min_samples_split=20, n_estimators=350;, score=-0.016 total time=   5.0s\n",
      "[CV 5/5] END max_depth=None, min_samples_leaf=20, min_samples_split=20, n_estimators=350;, score=-0.016 total time=   4.9s\n",
      "[CV 1/5] END max_depth=None, min_samples_leaf=20, min_samples_split=20, n_estimators=400;, score=-0.017 total time=   5.7s\n",
      "[CV 2/5] END max_depth=None, min_samples_leaf=20, min_samples_split=20, n_estimators=400;, score=-0.017 total time=   5.7s\n",
      "[CV 3/5] END max_depth=None, min_samples_leaf=20, min_samples_split=20, n_estimators=400;, score=-0.017 total time=   5.7s\n",
      "[CV 4/5] END max_depth=None, min_samples_leaf=20, min_samples_split=20, n_estimators=400;, score=-0.016 total time=   5.7s\n",
      "[CV 5/5] END max_depth=None, min_samples_leaf=20, min_samples_split=20, n_estimators=400;, score=-0.016 total time=   5.6s\n",
      "[CV 1/5] END max_depth=None, min_samples_leaf=20, min_samples_split=20, n_estimators=450;, score=-0.017 total time=   6.4s\n",
      "[CV 2/5] END max_depth=None, min_samples_leaf=20, min_samples_split=20, n_estimators=450;, score=-0.017 total time=   6.4s\n",
      "[CV 3/5] END max_depth=None, min_samples_leaf=20, min_samples_split=20, n_estimators=450;, score=-0.017 total time=   6.4s\n",
      "[CV 4/5] END max_depth=None, min_samples_leaf=20, min_samples_split=20, n_estimators=450;, score=-0.016 total time=   6.4s\n",
      "[CV 5/5] END max_depth=None, min_samples_leaf=20, min_samples_split=20, n_estimators=450;, score=-0.016 total time=   6.3s\n",
      "[CV 1/5] END max_depth=None, min_samples_leaf=20, min_samples_split=20, n_estimators=500;, score=-0.017 total time=   7.1s\n",
      "[CV 2/5] END max_depth=None, min_samples_leaf=20, min_samples_split=20, n_estimators=500;, score=-0.017 total time=   7.1s\n",
      "[CV 3/5] END max_depth=None, min_samples_leaf=20, min_samples_split=20, n_estimators=500;, score=-0.017 total time=   7.1s\n",
      "[CV 4/5] END max_depth=None, min_samples_leaf=20, min_samples_split=20, n_estimators=500;, score=-0.016 total time=   7.1s\n",
      "[CV 5/5] END max_depth=None, min_samples_leaf=20, min_samples_split=20, n_estimators=500;, score=-0.016 total time=   7.1s\n",
      "[CV 1/5] END max_depth=10, min_samples_leaf=1, min_samples_split=2, n_estimators=200;, score=-0.017 total time=   3.0s\n",
      "[CV 2/5] END max_depth=10, min_samples_leaf=1, min_samples_split=2, n_estimators=200;, score=-0.017 total time=   3.0s\n",
      "[CV 3/5] END max_depth=10, min_samples_leaf=1, min_samples_split=2, n_estimators=200;, score=-0.017 total time=   3.0s\n",
      "[CV 4/5] END max_depth=10, min_samples_leaf=1, min_samples_split=2, n_estimators=200;, score=-0.016 total time=   3.0s\n",
      "[CV 5/5] END max_depth=10, min_samples_leaf=1, min_samples_split=2, n_estimators=200;, score=-0.016 total time=   3.0s\n",
      "[CV 1/5] END max_depth=10, min_samples_leaf=1, min_samples_split=2, n_estimators=250;, score=-0.017 total time=   3.7s\n",
      "[CV 2/5] END max_depth=10, min_samples_leaf=1, min_samples_split=2, n_estimators=250;, score=-0.017 total time=   3.7s\n",
      "[CV 3/5] END max_depth=10, min_samples_leaf=1, min_samples_split=2, n_estimators=250;, score=-0.017 total time=   3.7s\n",
      "[CV 4/5] END max_depth=10, min_samples_leaf=1, min_samples_split=2, n_estimators=250;, score=-0.016 total time=   3.7s\n",
      "[CV 5/5] END max_depth=10, min_samples_leaf=1, min_samples_split=2, n_estimators=250;, score=-0.016 total time=   3.7s\n",
      "[CV 1/5] END max_depth=10, min_samples_leaf=1, min_samples_split=2, n_estimators=300;, score=-0.017 total time=   4.5s\n",
      "[CV 2/5] END max_depth=10, min_samples_leaf=1, min_samples_split=2, n_estimators=300;, score=-0.017 total time=   4.5s\n",
      "[CV 3/5] END max_depth=10, min_samples_leaf=1, min_samples_split=2, n_estimators=300;, score=-0.017 total time=   4.5s\n",
      "[CV 4/5] END max_depth=10, min_samples_leaf=1, min_samples_split=2, n_estimators=300;, score=-0.016 total time=   4.5s\n",
      "[CV 5/5] END max_depth=10, min_samples_leaf=1, min_samples_split=2, n_estimators=300;, score=-0.016 total time=   4.5s\n",
      "[CV 1/5] END max_depth=10, min_samples_leaf=1, min_samples_split=2, n_estimators=350;, score=-0.017 total time=   5.2s\n",
      "[CV 2/5] END max_depth=10, min_samples_leaf=1, min_samples_split=2, n_estimators=350;, score=-0.017 total time=   5.2s\n",
      "[CV 3/5] END max_depth=10, min_samples_leaf=1, min_samples_split=2, n_estimators=350;, score=-0.017 total time=   5.2s\n",
      "[CV 4/5] END max_depth=10, min_samples_leaf=1, min_samples_split=2, n_estimators=350;, score=-0.016 total time=   5.2s\n",
      "[CV 5/5] END max_depth=10, min_samples_leaf=1, min_samples_split=2, n_estimators=350;, score=-0.016 total time=   5.2s\n",
      "[CV 1/5] END max_depth=10, min_samples_leaf=1, min_samples_split=2, n_estimators=400;, score=-0.017 total time=   6.0s\n",
      "[CV 2/5] END max_depth=10, min_samples_leaf=1, min_samples_split=2, n_estimators=400;, score=-0.017 total time=   6.0s\n",
      "[CV 3/5] END max_depth=10, min_samples_leaf=1, min_samples_split=2, n_estimators=400;, score=-0.017 total time=   6.0s\n",
      "[CV 4/5] END max_depth=10, min_samples_leaf=1, min_samples_split=2, n_estimators=400;, score=-0.016 total time=   6.0s\n",
      "[CV 5/5] END max_depth=10, min_samples_leaf=1, min_samples_split=2, n_estimators=400;, score=-0.016 total time=   6.0s\n",
      "[CV 1/5] END max_depth=10, min_samples_leaf=1, min_samples_split=2, n_estimators=450;, score=-0.017 total time=   6.7s\n",
      "[CV 2/5] END max_depth=10, min_samples_leaf=1, min_samples_split=2, n_estimators=450;, score=-0.017 total time=   6.7s\n",
      "[CV 3/5] END max_depth=10, min_samples_leaf=1, min_samples_split=2, n_estimators=450;, score=-0.017 total time=   6.7s\n",
      "[CV 4/5] END max_depth=10, min_samples_leaf=1, min_samples_split=2, n_estimators=450;, score=-0.016 total time=   6.7s\n",
      "[CV 5/5] END max_depth=10, min_samples_leaf=1, min_samples_split=2, n_estimators=450;, score=-0.016 total time=   6.7s\n",
      "[CV 1/5] END max_depth=10, min_samples_leaf=1, min_samples_split=2, n_estimators=500;, score=-0.017 total time=   7.5s\n",
      "[CV 2/5] END max_depth=10, min_samples_leaf=1, min_samples_split=2, n_estimators=500;, score=-0.017 total time=   7.5s\n",
      "[CV 3/5] END max_depth=10, min_samples_leaf=1, min_samples_split=2, n_estimators=500;, score=-0.017 total time=   7.5s\n",
      "[CV 4/5] END max_depth=10, min_samples_leaf=1, min_samples_split=2, n_estimators=500;, score=-0.016 total time=   7.5s\n",
      "[CV 5/5] END max_depth=10, min_samples_leaf=1, min_samples_split=2, n_estimators=500;, score=-0.016 total time=   7.5s\n",
      "[CV 1/5] END max_depth=10, min_samples_leaf=1, min_samples_split=4, n_estimators=200;, score=-0.017 total time=   3.0s\n",
      "[CV 2/5] END max_depth=10, min_samples_leaf=1, min_samples_split=4, n_estimators=200;, score=-0.017 total time=   3.0s\n",
      "[CV 3/5] END max_depth=10, min_samples_leaf=1, min_samples_split=4, n_estimators=200;, score=-0.017 total time=   3.0s\n",
      "[CV 4/5] END max_depth=10, min_samples_leaf=1, min_samples_split=4, n_estimators=200;, score=-0.016 total time=   3.0s\n",
      "[CV 5/5] END max_depth=10, min_samples_leaf=1, min_samples_split=4, n_estimators=200;, score=-0.016 total time=   3.0s\n",
      "[CV 1/5] END max_depth=10, min_samples_leaf=1, min_samples_split=4, n_estimators=250;, score=-0.017 total time=   3.7s\n",
      "[CV 2/5] END max_depth=10, min_samples_leaf=1, min_samples_split=4, n_estimators=250;, score=-0.017 total time=   3.7s\n",
      "[CV 3/5] END max_depth=10, min_samples_leaf=1, min_samples_split=4, n_estimators=250;, score=-0.017 total time=   3.8s\n",
      "[CV 4/5] END max_depth=10, min_samples_leaf=1, min_samples_split=4, n_estimators=250;, score=-0.016 total time=   3.7s\n",
      "[CV 5/5] END max_depth=10, min_samples_leaf=1, min_samples_split=4, n_estimators=250;, score=-0.016 total time=   3.7s\n",
      "[CV 1/5] END max_depth=10, min_samples_leaf=1, min_samples_split=4, n_estimators=300;, score=-0.017 total time=   4.5s\n",
      "[CV 2/5] END max_depth=10, min_samples_leaf=1, min_samples_split=4, n_estimators=300;, score=-0.017 total time=   4.5s\n",
      "[CV 3/5] END max_depth=10, min_samples_leaf=1, min_samples_split=4, n_estimators=300;, score=-0.017 total time=   4.5s\n",
      "[CV 4/5] END max_depth=10, min_samples_leaf=1, min_samples_split=4, n_estimators=300;, score=-0.016 total time=   4.5s\n",
      "[CV 5/5] END max_depth=10, min_samples_leaf=1, min_samples_split=4, n_estimators=300;, score=-0.016 total time=   4.5s\n",
      "[CV 1/5] END max_depth=10, min_samples_leaf=1, min_samples_split=4, n_estimators=350;, score=-0.017 total time=   5.2s\n",
      "[CV 2/5] END max_depth=10, min_samples_leaf=1, min_samples_split=4, n_estimators=350;, score=-0.017 total time=   5.2s\n",
      "[CV 3/5] END max_depth=10, min_samples_leaf=1, min_samples_split=4, n_estimators=350;, score=-0.017 total time=   5.2s\n",
      "[CV 4/5] END max_depth=10, min_samples_leaf=1, min_samples_split=4, n_estimators=350;, score=-0.016 total time=   5.2s\n",
      "[CV 5/5] END max_depth=10, min_samples_leaf=1, min_samples_split=4, n_estimators=350;, score=-0.016 total time=   5.2s\n",
      "[CV 1/5] END max_depth=10, min_samples_leaf=1, min_samples_split=4, n_estimators=400;, score=-0.017 total time=   6.0s\n",
      "[CV 2/5] END max_depth=10, min_samples_leaf=1, min_samples_split=4, n_estimators=400;, score=-0.017 total time=   6.0s\n",
      "[CV 3/5] END max_depth=10, min_samples_leaf=1, min_samples_split=4, n_estimators=400;, score=-0.017 total time=   6.0s\n",
      "[CV 4/5] END max_depth=10, min_samples_leaf=1, min_samples_split=4, n_estimators=400;, score=-0.016 total time=   6.0s\n",
      "[CV 5/5] END max_depth=10, min_samples_leaf=1, min_samples_split=4, n_estimators=400;, score=-0.016 total time=   6.0s\n",
      "[CV 1/5] END max_depth=10, min_samples_leaf=1, min_samples_split=4, n_estimators=450;, score=-0.017 total time=   6.8s\n",
      "[CV 2/5] END max_depth=10, min_samples_leaf=1, min_samples_split=4, n_estimators=450;, score=-0.017 total time=   6.7s\n"
     ]
    }
   ],
   "source": [
    "gsc = GridSearchCV(RandomForestRegressor(), param_grid=params, verbose=3, cv=5, scoring='neg_mean_squared_error')\n",
    "gsc.fit(x_train, np.reshape(y_train, (y_train.shape[0],)))"
   ],
   "metadata": {
    "collapsed": false,
    "is_executing": true,
    "ExecuteTime": {
     "start_time": "2023-08-03T20:04:05.093898Z"
    }
   }
  },
  {
   "cell_type": "code",
   "execution_count": 36,
   "outputs": [
    {
     "data": {
      "text/plain": "{'n_estimators': 300}"
     },
     "execution_count": 36,
     "metadata": {},
     "output_type": "execute_result"
    }
   ],
   "source": [
    "gsc.best_params_"
   ],
   "metadata": {
    "collapsed": false,
    "ExecuteTime": {
     "end_time": "2023-08-03T17:47:02.501056Z",
     "start_time": "2023-08-03T17:47:02.495392Z"
    }
   }
  },
  {
   "cell_type": "code",
   "execution_count": null,
   "outputs": [],
   "source": [],
   "metadata": {
    "collapsed": false
   }
  }
 ],
 "metadata": {
  "kernelspec": {
   "display_name": "Python 3",
   "language": "python",
   "name": "python3"
  },
  "language_info": {
   "codemirror_mode": {
    "name": "ipython",
    "version": 2
   },
   "file_extension": ".py",
   "mimetype": "text/x-python",
   "name": "python",
   "nbconvert_exporter": "python",
   "pygments_lexer": "ipython2",
   "version": "2.7.6"
  }
 },
 "nbformat": 4,
 "nbformat_minor": 0
}
